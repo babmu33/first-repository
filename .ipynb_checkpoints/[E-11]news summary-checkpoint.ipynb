{
 "cells": [
  {
   "cell_type": "markdown",
   "id": "rapid-lucas",
   "metadata": {},
   "source": [
    "## 11-13. 프로젝트: 뉴스기사 요약해보기"
   ]
  },
  {
   "cell_type": "markdown",
   "id": "sharing-probability",
   "metadata": {},
   "source": [
    "### Step 1. 데이터 수집하기"
   ]
  },
  {
   "cell_type": "code",
   "execution_count": 1,
   "id": "radio-indicator",
   "metadata": {},
   "outputs": [
    {
     "name": "stderr",
     "output_type": "stream",
     "text": [
      "[nltk_data] Downloading package stopwords to /home/aiffel-\n",
      "[nltk_data]     dj50/nltk_data...\n",
      "[nltk_data]   Package stopwords is already up-to-date!\n"
     ]
    }
   ],
   "source": [
    "import nltk\n",
    "nltk.download('stopwords')\n",
    "\n",
    "import numpy as np\n",
    "import pandas as pd\n",
    "import os\n",
    "import re\n",
    "import matplotlib.pyplot as plt\n",
    "from nltk.corpus import stopwords\n",
    "from bs4 import BeautifulSoup \n",
    "from tensorflow.keras.preprocessing.text import Tokenizer \n",
    "from tensorflow.keras.preprocessing.sequence import pad_sequences\n",
    "import urllib.request"
   ]
  },
  {
   "cell_type": "code",
   "execution_count": 2,
   "id": "likely-middle",
   "metadata": {},
   "outputs": [],
   "source": [
    "import urllib.request\n",
    "urllib.request.urlretrieve(\"https://raw.githubusercontent.com/sunnysai12345/News_Summary/master/news_summary_more.csv\", filename=\"news_summary_more.csv\")\n",
    "data = pd.read_csv('news_summary_more.csv', encoding='iso-8859-1')"
   ]
  },
  {
   "cell_type": "markdown",
   "id": "associate-happening",
   "metadata": {},
   "source": [
    "#### 필요한 라이브러리를 불러오고 오늘 학습할 데이터를 다운로드 받아 준비해 둡니다."
   ]
  },
  {
   "cell_type": "code",
   "execution_count": 3,
   "id": "romance-seeker",
   "metadata": {},
   "outputs": [
    {
     "data": {
      "text/html": [
       "<div>\n",
       "<style scoped>\n",
       "    .dataframe tbody tr th:only-of-type {\n",
       "        vertical-align: middle;\n",
       "    }\n",
       "\n",
       "    .dataframe tbody tr th {\n",
       "        vertical-align: top;\n",
       "    }\n",
       "\n",
       "    .dataframe thead th {\n",
       "        text-align: right;\n",
       "    }\n",
       "</style>\n",
       "<table border=\"1\" class=\"dataframe\">\n",
       "  <thead>\n",
       "    <tr style=\"text-align: right;\">\n",
       "      <th></th>\n",
       "      <th>headlines</th>\n",
       "      <th>text</th>\n",
       "    </tr>\n",
       "  </thead>\n",
       "  <tbody>\n",
       "    <tr>\n",
       "      <th>87685</th>\n",
       "      <td>Hedge Fund plunges 62% after betting against C...</td>\n",
       "      <td>A hedge fund, the Nexus fund, at Emerging Sove...</td>\n",
       "    </tr>\n",
       "    <tr>\n",
       "      <th>82064</th>\n",
       "      <td>Lisa attends Paris Fashion Week 1 month after ...</td>\n",
       "      <td>Model-actress Lisa Haydon attended an event by...</td>\n",
       "    </tr>\n",
       "    <tr>\n",
       "      <th>71119</th>\n",
       "      <td>I've been misquoted: Farah on woman card comment</td>\n",
       "      <td>Choreographer-filmmaker Farah Khan has said sh...</td>\n",
       "    </tr>\n",
       "    <tr>\n",
       "      <th>71835</th>\n",
       "      <td>Before cancer, I didnÃ¢ÂÂt value my life so ...</td>\n",
       "      <td>Manisha Koirala has said that before cancer, h...</td>\n",
       "    </tr>\n",
       "    <tr>\n",
       "      <th>86093</th>\n",
       "      <td>ISIS claims attacks on Iranian parliament and ...</td>\n",
       "      <td>The Islamic State has claimed responsibility f...</td>\n",
       "    </tr>\n",
       "    <tr>\n",
       "      <th>77820</th>\n",
       "      <td>Arab states open 'emergency' air corridors for...</td>\n",
       "      <td>Saudi Arabia, UAE, Egypt, and Bahrain have sai...</td>\n",
       "    </tr>\n",
       "    <tr>\n",
       "      <th>76170</th>\n",
       "      <td>1,000 people take part in 'March for Science' ...</td>\n",
       "      <td>At least 1,000 people in Bengaluru took to the...</td>\n",
       "    </tr>\n",
       "    <tr>\n",
       "      <th>98256</th>\n",
       "      <td>McDonald's employee jumps through window to sa...</td>\n",
       "      <td>McDonald's employee Pedro Viloria jumped throu...</td>\n",
       "    </tr>\n",
       "    <tr>\n",
       "      <th>12834</th>\n",
       "      <td>Ex-Interpol chief detained by China may be dea...</td>\n",
       "      <td>Grace Meng, the wife of former Interpol Presid...</td>\n",
       "    </tr>\n",
       "    <tr>\n",
       "      <th>68916</th>\n",
       "      <td>Happy being a bahu on TV: 'Uttaran' actress Ti...</td>\n",
       "      <td>Actress Tinaa Dattaa, known for starring in th...</td>\n",
       "    </tr>\n",
       "  </tbody>\n",
       "</table>\n",
       "</div>"
      ],
      "text/plain": [
       "                                               headlines  \\\n",
       "87685  Hedge Fund plunges 62% after betting against C...   \n",
       "82064  Lisa attends Paris Fashion Week 1 month after ...   \n",
       "71119   I've been misquoted: Farah on woman card comment   \n",
       "71835  Before cancer, I didnÃ¢ÂÂt value my life so ...   \n",
       "86093  ISIS claims attacks on Iranian parliament and ...   \n",
       "77820  Arab states open 'emergency' air corridors for...   \n",
       "76170  1,000 people take part in 'March for Science' ...   \n",
       "98256  McDonald's employee jumps through window to sa...   \n",
       "12834  Ex-Interpol chief detained by China may be dea...   \n",
       "68916  Happy being a bahu on TV: 'Uttaran' actress Ti...   \n",
       "\n",
       "                                                    text  \n",
       "87685  A hedge fund, the Nexus fund, at Emerging Sove...  \n",
       "82064  Model-actress Lisa Haydon attended an event by...  \n",
       "71119  Choreographer-filmmaker Farah Khan has said sh...  \n",
       "71835  Manisha Koirala has said that before cancer, h...  \n",
       "86093  The Islamic State has claimed responsibility f...  \n",
       "77820  Saudi Arabia, UAE, Egypt, and Bahrain have sai...  \n",
       "76170  At least 1,000 people in Bengaluru took to the...  \n",
       "98256  McDonald's employee Pedro Viloria jumped throu...  \n",
       "12834  Grace Meng, the wife of former Interpol Presid...  \n",
       "68916  Actress Tinaa Dattaa, known for starring in th...  "
      ]
     },
     "execution_count": 3,
     "metadata": {},
     "output_type": "execute_result"
    }
   ],
   "source": [
    "data.sample(10)"
   ]
  },
  {
   "cell_type": "markdown",
   "id": "arctic-first",
   "metadata": {},
   "source": [
    "#### 데이터를 살펴보니 기사의 본문에 해당되는 text와 headlines 두 가지 열로 구성되어져 있네요."
   ]
  },
  {
   "cell_type": "markdown",
   "id": "internal-blink",
   "metadata": {},
   "source": [
    "### Step 2. 데이터 전처리하기 (추상적 요약)"
   ]
  },
  {
   "cell_type": "code",
   "execution_count": 4,
   "id": "german-czech",
   "metadata": {},
   "outputs": [
    {
     "name": "stdout",
     "output_type": "stream",
     "text": [
      "text 열에서 중복을 배제한 유일한 샘플의 수 : 98360\n",
      "headlines 열에서 중복을 배제한 유일한 샘플의 수 : 98280\n"
     ]
    }
   ],
   "source": [
    "print('text 열에서 중복을 배제한 유일한 샘플의 수 :', data['text'].nunique())\n",
    "print('headlines 열에서 중복을 배제한 유일한 샘플의 수 :', data['headlines'].nunique())"
   ]
  },
  {
   "cell_type": "code",
   "execution_count": 5,
   "id": "earlier-assumption",
   "metadata": {},
   "outputs": [
    {
     "name": "stdout",
     "output_type": "stream",
     "text": [
      "전체 샘플수 : 98360\n"
     ]
    }
   ],
   "source": [
    "data.drop_duplicates(subset = ['text'], inplace = True)\n",
    "print('전체 샘플수 :',(len(data)))"
   ]
  },
  {
   "cell_type": "code",
   "execution_count": 6,
   "id": "cooperative-steam",
   "metadata": {},
   "outputs": [
    {
     "name": "stdout",
     "output_type": "stream",
     "text": [
      "headlines    0\n",
      "text         0\n",
      "dtype: int64\n"
     ]
    }
   ],
   "source": [
    "print(data.isnull().sum())"
   ]
  },
  {
   "cell_type": "markdown",
   "id": "detailed-alloy",
   "metadata": {},
   "source": [
    "#### 중복 샘플을 제거하고  NULL 값은 없어서 제거 과정을 생략합니다."
   ]
  },
  {
   "cell_type": "code",
   "execution_count": 7,
   "id": "religious-badge",
   "metadata": {},
   "outputs": [
    {
     "name": "stdout",
     "output_type": "stream",
     "text": [
      "정규화 사전의 수:  120\n"
     ]
    }
   ],
   "source": [
    "contractions = {\"ain't\": \"is not\", \"aren't\": \"are not\",\"can't\": \"cannot\", \"'cause\": \"because\", \"could've\": \"could have\", \"couldn't\": \"could not\",\n",
    "                           \"didn't\": \"did not\",  \"doesn't\": \"does not\", \"don't\": \"do not\", \"hadn't\": \"had not\", \"hasn't\": \"has not\", \"haven't\": \"have not\",\n",
    "                           \"he'd\": \"he would\",\"he'll\": \"he will\", \"he's\": \"he is\", \"how'd\": \"how did\", \"how'd'y\": \"how do you\", \"how'll\": \"how will\", \"how's\": \"how is\",\n",
    "                           \"I'd\": \"I would\", \"I'd've\": \"I would have\", \"I'll\": \"I will\", \"I'll've\": \"I will have\",\"I'm\": \"I am\", \"I've\": \"I have\", \"i'd\": \"i would\",\n",
    "                           \"i'd've\": \"i would have\", \"i'll\": \"i will\",  \"i'll've\": \"i will have\",\"i'm\": \"i am\", \"i've\": \"i have\", \"isn't\": \"is not\", \"it'd\": \"it would\",\n",
    "                           \"it'd've\": \"it would have\", \"it'll\": \"it will\", \"it'll've\": \"it will have\",\"it's\": \"it is\", \"let's\": \"let us\", \"ma'am\": \"madam\",\n",
    "                           \"mayn't\": \"may not\", \"might've\": \"might have\",\"mightn't\": \"might not\",\"mightn't've\": \"might not have\", \"must've\": \"must have\",\n",
    "                           \"mustn't\": \"must not\", \"mustn't've\": \"must not have\", \"needn't\": \"need not\", \"needn't've\": \"need not have\",\"o'clock\": \"of the clock\",\n",
    "                           \"oughtn't\": \"ought not\", \"oughtn't've\": \"ought not have\", \"shan't\": \"shall not\", \"sha'n't\": \"shall not\", \"shan't've\": \"shall not have\",\n",
    "                           \"she'd\": \"she would\", \"she'd've\": \"she would have\", \"she'll\": \"she will\", \"she'll've\": \"she will have\", \"she's\": \"she is\",\n",
    "                           \"should've\": \"should have\", \"shouldn't\": \"should not\", \"shouldn't've\": \"should not have\", \"so've\": \"so have\",\"so's\": \"so as\",\n",
    "                           \"this's\": \"this is\",\"that'd\": \"that would\", \"that'd've\": \"that would have\", \"that's\": \"that is\", \"there'd\": \"there would\",\n",
    "                           \"there'd've\": \"there would have\", \"there's\": \"there is\", \"here's\": \"here is\",\"they'd\": \"they would\", \"they'd've\": \"they would have\",\n",
    "                           \"they'll\": \"they will\", \"they'll've\": \"they will have\", \"they're\": \"they are\", \"they've\": \"they have\", \"to've\": \"to have\",\n",
    "                           \"wasn't\": \"was not\", \"we'd\": \"we would\", \"we'd've\": \"we would have\", \"we'll\": \"we will\", \"we'll've\": \"we will have\", \"we're\": \"we are\",\n",
    "                           \"we've\": \"we have\", \"weren't\": \"were not\", \"what'll\": \"what will\", \"what'll've\": \"what will have\", \"what're\": \"what are\",\n",
    "                           \"what's\": \"what is\", \"what've\": \"what have\", \"when's\": \"when is\", \"when've\": \"when have\", \"where'd\": \"where did\", \"where's\": \"where is\",\n",
    "                           \"where've\": \"where have\", \"who'll\": \"who will\", \"who'll've\": \"who will have\", \"who's\": \"who is\", \"who've\": \"who have\",\n",
    "                           \"why's\": \"why is\", \"why've\": \"why have\", \"will've\": \"will have\", \"won't\": \"will not\", \"won't've\": \"will not have\",\n",
    "                           \"would've\": \"would have\", \"wouldn't\": \"would not\", \"wouldn't've\": \"would not have\", \"y'all\": \"you all\",\n",
    "                           \"y'all'd\": \"you all would\",\"y'all'd've\": \"you all would have\",\"y'all're\": \"you all are\",\"y'all've\": \"you all have\",\n",
    "                           \"you'd\": \"you would\", \"you'd've\": \"you would have\", \"you'll\": \"you will\", \"you'll've\": \"you will have\",\n",
    "                           \"you're\": \"you are\", \"you've\": \"you have\"}\n",
    "\n",
    "print(\"정규화 사전의 수: \",len(contractions))"
   ]
  },
  {
   "cell_type": "code",
   "execution_count": 8,
   "id": "bright-transfer",
   "metadata": {},
   "outputs": [
    {
     "name": "stdout",
     "output_type": "stream",
     "text": [
      "불용어 개수 : 179\n",
      "['i', 'me', 'my', 'myself', 'we', 'our', 'ours', 'ourselves', 'you', \"you're\", \"you've\", \"you'll\", \"you'd\", 'your', 'yours', 'yourself', 'yourselves', 'he', 'him', 'his', 'himself', 'she', \"she's\", 'her', 'hers', 'herself', 'it', \"it's\", 'its', 'itself', 'they', 'them', 'their', 'theirs', 'themselves', 'what', 'which', 'who', 'whom', 'this', 'that', \"that'll\", 'these', 'those', 'am', 'is', 'are', 'was', 'were', 'be', 'been', 'being', 'have', 'has', 'had', 'having', 'do', 'does', 'did', 'doing', 'a', 'an', 'the', 'and', 'but', 'if', 'or', 'because', 'as', 'until', 'while', 'of', 'at', 'by', 'for', 'with', 'about', 'against', 'between', 'into', 'through', 'during', 'before', 'after', 'above', 'below', 'to', 'from', 'up', 'down', 'in', 'out', 'on', 'off', 'over', 'under', 'again', 'further', 'then', 'once', 'here', 'there', 'when', 'where', 'why', 'how', 'all', 'any', 'both', 'each', 'few', 'more', 'most', 'other', 'some', 'such', 'no', 'nor', 'not', 'only', 'own', 'same', 'so', 'than', 'too', 'very', 's', 't', 'can', 'will', 'just', 'don', \"don't\", 'should', \"should've\", 'now', 'd', 'll', 'm', 'o', 're', 've', 'y', 'ain', 'aren', \"aren't\", 'couldn', \"couldn't\", 'didn', \"didn't\", 'doesn', \"doesn't\", 'hadn', \"hadn't\", 'hasn', \"hasn't\", 'haven', \"haven't\", 'isn', \"isn't\", 'ma', 'mightn', \"mightn't\", 'mustn', \"mustn't\", 'needn', \"needn't\", 'shan', \"shan't\", 'shouldn', \"shouldn't\", 'wasn', \"wasn't\", 'weren', \"weren't\", 'won', \"won't\", 'wouldn', \"wouldn't\"]\n"
     ]
    }
   ],
   "source": [
    "print('불용어 개수 :', len(stopwords.words('english') ))\n",
    "print(stopwords.words('english'))"
   ]
  },
  {
   "cell_type": "code",
   "execution_count": 9,
   "id": "straight-heating",
   "metadata": {},
   "outputs": [],
   "source": [
    "#데이터 전처리 함수\n",
    "def preprocess_sentence(sentence, remove_stopwords=True):\n",
    "    sentence = sentence.lower() # 텍스트 소문자화\n",
    "    sentence = BeautifulSoup(sentence, \"lxml\").text # <br />, <a href = ...> 등의 html 태그 제거\n",
    "    sentence = re.sub(r'\\([^)]*\\)', '', sentence) # 괄호로 닫힌 문자열 (...) 제거 Ex) my husband (and myself!) for => my husband for\n",
    "    sentence = re.sub('\"','', sentence) # 쌍따옴표 \" 제거\n",
    "    sentence = ' '.join([contractions[t] if t in contractions else t for t in sentence.split(\" \")]) # 약어 정규화\n",
    "    sentence = re.sub(r\"'s\\b\",\"\",sentence) # 소유격 제거. Ex) roland's -> roland\n",
    "    sentence = re.sub(\"[^a-zA-Z]\", \" \", sentence) # 영어 외 문자(숫자, 특수문자 등) 공백으로 변환\n",
    "    sentence = re.sub('[m]{2,}', 'mm', sentence) # m이 3개 이상이면 2개로 변경. Ex) ummmmmmm yeah -> umm yeah\n",
    "    \n",
    "    # 불용어 제거 (Text)\n",
    "    if remove_stopwords:\n",
    "        tokens = ' '.join(word for word in sentence.split() if not word in stopwords.words('english') if len(word) > 1)\n",
    "    # 불용어 미제거 (Summary)\n",
    "    else:\n",
    "        tokens = ' '.join(word for word in sentence.split() if len(word) > 1)\n",
    "    return tokens"
   ]
  },
  {
   "cell_type": "code",
   "execution_count": 10,
   "id": "looking-volunteer",
   "metadata": {},
   "outputs": [
    {
     "name": "stdout",
     "output_type": "stream",
     "text": [
      "everything bought great infact ordered twice third ordered wasfor mother father\n",
      "great way to start the day\n"
     ]
    }
   ],
   "source": [
    "temp_text = 'Everything I bought was great, infact I ordered twice and the third ordered was<br />for my mother and father.'\n",
    "temp_headlines = 'Great way to start (or finish) the day!!!'\n",
    "\n",
    "print(preprocess_sentence(temp_text))\n",
    "print(preprocess_sentence(temp_headlines, False))  # 불용어를 제거하지 않습니다."
   ]
  },
  {
   "cell_type": "markdown",
   "id": "metric-reach",
   "metadata": {},
   "source": [
    "#### 텍스트 정규화를 위해서 딕셔너리를 구성하고,  NLTK에서 제공하는 불용어 리스트를 참조해 샘플에서 불용어를 제거하고,  모든 영어문자는 소문자로 만들고, 섞여있는 html 태그를 제거하고, 정규 표현식을 통해 각종 특수문자를 제거해서 정말 필요한 내용만 잘 학습할 수 있도록  하였습니다."
   ]
  },
  {
   "cell_type": "code",
   "execution_count": 11,
   "id": "alert-millennium",
   "metadata": {},
   "outputs": [
    {
     "data": {
      "text/plain": [
       "['saurav kant alumnus upgrad iiit pg program machine learning artificial intelligence sr systems engineer infosys almost years work experience program upgrad degree career support helped transition data scientist tech mahindra salary hike upgrad online power learning powered lakh careers',\n",
       " 'kunal shah credit card bill payment platform cred gave users chance win free food swiggy one year pranav kaushik delhi techie bagged reward spending cred coins users get one cred coin per rupee bill paid used avail rewards brands like ixigo bookmyshow ubereats cult fit',\n",
       " 'new zealand defeated india wickets fourth odi hamilton thursday win first match five match odi series india lost international match rohit sharma captaincy consecutive victories dating back march match witnessed india getting seventh lowest total odi cricket history',\n",
       " 'aegon life iterm insurance plan customers enjoy tax benefits premiums paid save taxes plan provides life cover age years also customers options insure critical illnesses disability accidental death benefit rider life cover age years',\n",
       " 'speaking sexual harassment allegations rajkumar hirani sonam kapoor said known hirani many years true metoo movement get derailed metoo movement always believe woman case need reserve judgment added hirani accused assistant worked sanju']"
      ]
     },
     "execution_count": 11,
     "metadata": {},
     "output_type": "execute_result"
    }
   ],
   "source": [
    "clean_text = []\n",
    "\n",
    "# 전체 Text 데이터에 대한 전처리 : 10분 이상 시간이 걸릴 수 있습니다. \n",
    "for s in data['text']:\n",
    "    clean_text.append(preprocess_sentence(s))\n",
    "\n",
    "# 전처리 후 출력\n",
    "clean_text[:5]"
   ]
  },
  {
   "cell_type": "code",
   "execution_count": 12,
   "id": "pointed-update",
   "metadata": {},
   "outputs": [
    {
     "data": {
      "text/plain": [
       "['upgrad learner switches to career in ml al with salary hike',\n",
       " 'delhi techie wins free food from swiggy for one year on cred',\n",
       " 'new zealand end rohit sharma led india match winning streak',\n",
       " 'aegon life iterm insurance plan helps customers save tax',\n",
       " 'have known hirani for yrs what if metoo claims are not true sonam']"
      ]
     },
     "execution_count": 12,
     "metadata": {},
     "output_type": "execute_result"
    }
   ],
   "source": [
    "clean_headlines = []\n",
    "\n",
    "# 전체 headlines 데이터에 대한 전처리 : 5분 이상 시간이 걸릴 수 있습니다. \n",
    "for s in data['headlines']:\n",
    "    clean_headlines.append(preprocess_sentence(s, False))\n",
    "\n",
    "clean_headlines[:5]"
   ]
  },
  {
   "cell_type": "markdown",
   "id": "governmental-episode",
   "metadata": {},
   "source": [
    "#### text와 headlines에 대한 전처리를 하는과정에서 비교적 문장이 짧은 headlines에 대해서는 불용어 제거를 하지 않았습니다."
   ]
  },
  {
   "cell_type": "code",
   "execution_count": 13,
   "id": "lyric-expansion",
   "metadata": {},
   "outputs": [],
   "source": [
    "data['text'] = clean_text\n",
    "data['headlines'] = clean_headlines\n",
    "\n",
    "# 빈 값을 Null 값으로 변환\n",
    "data.replace('', np.nan, inplace=True)"
   ]
  },
  {
   "cell_type": "code",
   "execution_count": 14,
   "id": "interstate-mitchell",
   "metadata": {},
   "outputs": [
    {
     "data": {
      "text/plain": [
       "headlines    0\n",
       "text         0\n",
       "dtype: int64"
      ]
     },
     "execution_count": 14,
     "metadata": {},
     "output_type": "execute_result"
    }
   ],
   "source": [
    "data.isnull().sum()"
   ]
  },
  {
   "cell_type": "markdown",
   "id": "naked-sellers",
   "metadata": {},
   "source": [
    "#### 텍스트 정제의 과정을 거친 후 빈(empty) 샘플이 생겼는지 확인해보니 빈 샘플은 없는걸로 확인이 되었습니다. 제거하지 않아도 되겠네요."
   ]
  },
  {
   "cell_type": "code",
   "execution_count": 15,
   "id": "inclusive-isolation",
   "metadata": {},
   "outputs": [
    {
     "name": "stdout",
     "output_type": "stream",
     "text": [
      "텍스트의 최소 길이 : 1\n",
      "텍스트의 최대 길이 : 60\n",
      "텍스트의 평균 길이 : 35.09968483123221\n",
      "표제의 최소 길이 : 1\n",
      "표제의 최대 길이 : 16\n",
      "표제의 평균 길이 : 9.299532330215534\n"
     ]
    },
    {
     "data": {
      "image/png": "[encoded data removed]",
      "text/plain": [
       "<Figure size 432x288 with 2 Axes>"
      ]
     },
     "metadata": {
      "needs_background": "light"
     },
     "output_type": "display_data"
    },
    {
     "data": {
      "image/png": "[encoded data removed]",
      "text/plain": [
       "<Figure size 432x288 with 1 Axes>"
      ]
     },
     "metadata": {
      "needs_background": "light"
     },
     "output_type": "display_data"
    },
    {
     "data": {
      "image/png": "[encoded data removed]",
      "text/plain": [
       "<Figure size 432x288 with 1 Axes>"
      ]
     },
     "metadata": {
      "needs_background": "light"
     },
     "output_type": "display_data"
    }
   ],
   "source": [
    "# 길이 분포 출력\n",
    "import matplotlib.pyplot as plt\n",
    "\n",
    "text_len = [len(s.split()) for s in data['text']]\n",
    "headlines_len = [len(s.split()) for s in data['headlines']]\n",
    "\n",
    "print('텍스트의 최소 길이 : {}'.format(np.min(text_len)))\n",
    "print('텍스트의 최대 길이 : {}'.format(np.max(text_len)))\n",
    "print('텍스트의 평균 길이 : {}'.format(np.mean(text_len)))\n",
    "print('표제의 최소 길이 : {}'.format(np.min(headlines_len)))\n",
    "print('표제의 최대 길이 : {}'.format(np.max(headlines_len)))\n",
    "print('표제의 평균 길이 : {}'.format(np.mean(headlines_len)))\n",
    "\n",
    "plt.subplot(1,2,1)\n",
    "plt.boxplot(headlines_len)\n",
    "plt.title('headlines')\n",
    "plt.subplot(1,2,2)\n",
    "plt.boxplot(text_len)\n",
    "plt.title('text')\n",
    "plt.tight_layout()\n",
    "plt.show()\n",
    "\n",
    "plt.title('headlines')\n",
    "plt.hist(headlines_len, bins = 40)\n",
    "plt.xlabel('length of samples')\n",
    "plt.ylabel('number of samples')\n",
    "plt.show()\n",
    "\n",
    "plt.title('text')\n",
    "plt.hist(text_len, bins = 40)\n",
    "plt.xlabel('length of samples')\n",
    "plt.ylabel('number of samples')\n",
    "plt.show()"
   ]
  },
  {
   "cell_type": "markdown",
   "id": "violent-bridge",
   "metadata": {},
   "source": [
    "#### 데이터를 시각화 해보니 텍스트의 길이는 20 부터 50사이에 많이 분포하고 있고 헤드라인 길이는 4부터 14 사이에 분포하는것을 확인할수 있었습니다."
   ]
  },
  {
   "cell_type": "code",
   "execution_count": 16,
   "id": "still-clinton",
   "metadata": {},
   "outputs": [],
   "source": [
    "text_max_len = 40\n",
    "headlines_max_len = 11"
   ]
  },
  {
   "cell_type": "code",
   "execution_count": 17,
   "id": "purple-alliance",
   "metadata": {},
   "outputs": [],
   "source": [
    "def below_threshold_len(max_len, nested_list):\n",
    "  cnt = 0\n",
    "  for s in nested_list:\n",
    "    if(len(s.split()) <= max_len):\n",
    "        cnt = cnt + 1\n",
    "  print('전체 샘플 중 길이가 %s 이하인 샘플의 비율: %s'%(max_len, (cnt / len(nested_list))))"
   ]
  },
  {
   "cell_type": "code",
   "execution_count": 18,
   "id": "ranging-assumption",
   "metadata": {},
   "outputs": [
    {
     "name": "stdout",
     "output_type": "stream",
     "text": [
      "전체 샘플 중 길이가 40 이하인 샘플의 비율: 0.9238714924766165\n",
      "전체 샘플 중 길이가 11 이하인 샘플의 비율: 0.9449877999186661\n"
     ]
    }
   ],
   "source": [
    "below_threshold_len(text_max_len, data['text'])\n",
    "below_threshold_len(headlines_max_len,  data['headlines'])"
   ]
  },
  {
   "cell_type": "code",
   "execution_count": 19,
   "id": "interracial-compensation",
   "metadata": {},
   "outputs": [
    {
     "name": "stdout",
     "output_type": "stream",
     "text": [
      "전체 샘플수 : 85843\n"
     ]
    }
   ],
   "source": [
    "data = data[data['text'].apply(lambda x: len(x.split()) <= text_max_len)]\n",
    "data = data[data['headlines'].apply(lambda x: len(x.split()) <= headlines_max_len)]\n",
    "print('전체 샘플수 :',(len(data)))"
   ]
  },
  {
   "cell_type": "markdown",
   "id": "supported-roman",
   "metadata": {},
   "source": [
    "#### 전체 샘플중 텍스트는 길이가 40 이상, 헤드라인은 11이상인 것은 제외하였더니 전체 샘플수가 85843개가 되었습니다."
   ]
  },
  {
   "cell_type": "code",
   "execution_count": 20,
   "id": "downtown-header",
   "metadata": {},
   "outputs": [
    {
     "data": {
      "text/html": [
       "<div>\n",
       "<style scoped>\n",
       "    .dataframe tbody tr th:only-of-type {\n",
       "        vertical-align: middle;\n",
       "    }\n",
       "\n",
       "    .dataframe tbody tr th {\n",
       "        vertical-align: top;\n",
       "    }\n",
       "\n",
       "    .dataframe thead th {\n",
       "        text-align: right;\n",
       "    }\n",
       "</style>\n",
       "<table border=\"1\" class=\"dataframe\">\n",
       "  <thead>\n",
       "    <tr style=\"text-align: right;\">\n",
       "      <th></th>\n",
       "      <th>headlines</th>\n",
       "      <th>text</th>\n",
       "      <th>decoder_input</th>\n",
       "      <th>decoder_target</th>\n",
       "    </tr>\n",
       "  </thead>\n",
       "  <tbody>\n",
       "    <tr>\n",
       "      <th>0</th>\n",
       "      <td>upgrad learner switches to career in ml al wit...</td>\n",
       "      <td>saurav kant alumnus upgrad iiit pg program mac...</td>\n",
       "      <td>sostoken upgrad learner switches to career in ...</td>\n",
       "      <td>upgrad learner switches to career in ml al wit...</td>\n",
       "    </tr>\n",
       "    <tr>\n",
       "      <th>2</th>\n",
       "      <td>new zealand end rohit sharma led india match w...</td>\n",
       "      <td>new zealand defeated india wickets fourth odi ...</td>\n",
       "      <td>sostoken new zealand end rohit sharma led indi...</td>\n",
       "      <td>new zealand end rohit sharma led india match w...</td>\n",
       "    </tr>\n",
       "    <tr>\n",
       "      <th>3</th>\n",
       "      <td>aegon life iterm insurance plan helps customer...</td>\n",
       "      <td>aegon life iterm insurance plan customers enjo...</td>\n",
       "      <td>sostoken aegon life iterm insurance plan helps...</td>\n",
       "      <td>aegon life iterm insurance plan helps customer...</td>\n",
       "    </tr>\n",
       "    <tr>\n",
       "      <th>5</th>\n",
       "      <td>rahat fateh ali khan denies getting notice for...</td>\n",
       "      <td>pakistani singer rahat fateh ali khan denied r...</td>\n",
       "      <td>sostoken rahat fateh ali khan denies getting n...</td>\n",
       "      <td>rahat fateh ali khan denies getting notice for...</td>\n",
       "    </tr>\n",
       "    <tr>\n",
       "      <th>7</th>\n",
       "      <td>govt directs alok verma to join work day befor...</td>\n",
       "      <td>weeks ex cbi director alok verma told departme...</td>\n",
       "      <td>sostoken govt directs alok verma to join work ...</td>\n",
       "      <td>govt directs alok verma to join work day befor...</td>\n",
       "    </tr>\n",
       "  </tbody>\n",
       "</table>\n",
       "</div>"
      ],
      "text/plain": [
       "                                           headlines  \\\n",
       "0  upgrad learner switches to career in ml al wit...   \n",
       "2  new zealand end rohit sharma led india match w...   \n",
       "3  aegon life iterm insurance plan helps customer...   \n",
       "5  rahat fateh ali khan denies getting notice for...   \n",
       "7  govt directs alok verma to join work day befor...   \n",
       "\n",
       "                                                text  \\\n",
       "0  saurav kant alumnus upgrad iiit pg program mac...   \n",
       "2  new zealand defeated india wickets fourth odi ...   \n",
       "3  aegon life iterm insurance plan customers enjo...   \n",
       "5  pakistani singer rahat fateh ali khan denied r...   \n",
       "7  weeks ex cbi director alok verma told departme...   \n",
       "\n",
       "                                       decoder_input  \\\n",
       "0  sostoken upgrad learner switches to career in ...   \n",
       "2  sostoken new zealand end rohit sharma led indi...   \n",
       "3  sostoken aegon life iterm insurance plan helps...   \n",
       "5  sostoken rahat fateh ali khan denies getting n...   \n",
       "7  sostoken govt directs alok verma to join work ...   \n",
       "\n",
       "                                      decoder_target  \n",
       "0  upgrad learner switches to career in ml al wit...  \n",
       "2  new zealand end rohit sharma led india match w...  \n",
       "3  aegon life iterm insurance plan helps customer...  \n",
       "5  rahat fateh ali khan denies getting notice for...  \n",
       "7  govt directs alok verma to join work day befor...  "
      ]
     },
     "execution_count": 20,
     "metadata": {},
     "output_type": "execute_result"
    }
   ],
   "source": [
    "#표제 데이터에는 시작 토큰과 종료 토큰을 추가한다.\n",
    "data['decoder_input'] = data['headlines'].apply(lambda x : 'sostoken '+ x)\n",
    "data['decoder_target'] = data['headlines'].apply(lambda x : x + ' eostoken')\n",
    "data.head()"
   ]
  },
  {
   "cell_type": "code",
   "execution_count": 21,
   "id": "mineral-entertainment",
   "metadata": {},
   "outputs": [],
   "source": [
    "encoder_input = np.array(data['text']) # 인코더의 입력\n",
    "decoder_input = np.array(data['decoder_input']) # 디코더의 입력\n",
    "decoder_target = np.array(data['decoder_target']) # 디코더의 레이블"
   ]
  },
  {
   "cell_type": "code",
   "execution_count": 22,
   "id": "wicked-yemen",
   "metadata": {},
   "outputs": [
    {
     "name": "stdout",
     "output_type": "stream",
     "text": [
      "[47196   972 31786 ... 68422 65096 41743]\n"
     ]
    }
   ],
   "source": [
    "indices = np.arange(encoder_input.shape[0])\n",
    "np.random.shuffle(indices)\n",
    "print(indices)"
   ]
  },
  {
   "cell_type": "code",
   "execution_count": 23,
   "id": "controlling-roberts",
   "metadata": {},
   "outputs": [],
   "source": [
    "encoder_input = encoder_input[indices]\n",
    "decoder_input = decoder_input[indices]\n",
    "decoder_target = decoder_target[indices]"
   ]
  },
  {
   "cell_type": "code",
   "execution_count": 24,
   "id": "representative-iraqi",
   "metadata": {},
   "outputs": [
    {
     "name": "stdout",
     "output_type": "stream",
     "text": [
      "테스트 데이터의 수 : 17168\n"
     ]
    }
   ],
   "source": [
    "n_of_val = int(len(encoder_input)*0.2)\n",
    "print('테스트 데이터의 수 :',n_of_val)"
   ]
  },
  {
   "cell_type": "code",
   "execution_count": 25,
   "id": "artistic-harris",
   "metadata": {},
   "outputs": [
    {
     "name": "stdout",
     "output_type": "stream",
     "text": [
      "훈련 데이터의 개수 : 68675\n",
      "훈련 레이블의 개수 : 68675\n",
      "테스트 데이터의 개수 : 17168\n",
      "테스트 레이블의 개수 : 17168\n"
     ]
    }
   ],
   "source": [
    "encoder_input_train = encoder_input[:-n_of_val]\n",
    "decoder_input_train = decoder_input[:-n_of_val]\n",
    "decoder_target_train = decoder_target[:-n_of_val]\n",
    "\n",
    "encoder_input_test = encoder_input[-n_of_val:]\n",
    "decoder_input_test = decoder_input[-n_of_val:]\n",
    "decoder_target_test = decoder_target[-n_of_val:]\n",
    "\n",
    "print('훈련 데이터의 개수 :', len(encoder_input_train))\n",
    "print('훈련 레이블의 개수 :',len(decoder_input_train))\n",
    "print('테스트 데이터의 개수 :',len(encoder_input_test))\n",
    "print('테스트 레이블의 개수 :',len(decoder_input_test))"
   ]
  },
  {
   "cell_type": "markdown",
   "id": "extensive-product",
   "metadata": {},
   "source": [
    "#### 훈련을 위해서 디코더의 입력과 레이블에 시작 토큰과 종료 토큰을 추가하고 Numpy 타입으로 저장한후, encoder_input과 크기와 형태가 같은 순서가 섞인 정수 시퀀스를 만들어 샘플 순서를 정의해줘서 잘 섞인 샘플을 만듭니다. 그리고 전체 데이터를 8:2의 비율로 훈련 데이터와 테스트 데이터로 분체하였습니다."
   ]
  },
  {
   "cell_type": "code",
   "execution_count": 26,
   "id": "passing-joseph",
   "metadata": {},
   "outputs": [],
   "source": [
    "src_tokenizer = Tokenizer() # 토크나이저 정의\n",
    "src_tokenizer.fit_on_texts(encoder_input_train) # 입력된 데이터로부터 단어 집합 생성"
   ]
  },
  {
   "cell_type": "code",
   "execution_count": 27,
   "id": "going-competition",
   "metadata": {},
   "outputs": [
    {
     "name": "stdout",
     "output_type": "stream",
     "text": [
      "단어 집합(vocabulary)의 크기 : 64572\n",
      "등장 빈도가 6번 이하인 희귀 단어의 수: 44011\n",
      "단어 집합에서 희귀 단어를 제외시킬 경우의 단어 집합의 크기 20561\n",
      "단어 집합에서 희귀 단어의 비율: 68.15802515021991\n",
      "전체 등장 빈도에서 희귀 단어 등장 빈도 비율: 3.7738712597178723\n"
     ]
    }
   ],
   "source": [
    "threshold = 7\n",
    "total_cnt = len(src_tokenizer.word_index) # 단어의 수\n",
    "rare_cnt = 0 # 등장 빈도수가 threshold보다 작은 단어의 개수를 카운트\n",
    "total_freq = 0 # 훈련 데이터의 전체 단어 빈도수 총 합\n",
    "rare_freq = 0 # 등장 빈도수가 threshold보다 작은 단어의 등장 빈도수의 총 합\n",
    "\n",
    "# 단어와 빈도수의 쌍(pair)을 key와 value로 받는다.\n",
    "for key, value in src_tokenizer.word_counts.items():\n",
    "    total_freq = total_freq + value\n",
    "\n",
    "    # 단어의 등장 빈도수가 threshold보다 작으면\n",
    "    if(value < threshold):\n",
    "        rare_cnt = rare_cnt + 1\n",
    "        rare_freq = rare_freq + value\n",
    "\n",
    "print('단어 집합(vocabulary)의 크기 :',total_cnt)\n",
    "print('등장 빈도가 %s번 이하인 희귀 단어의 수: %s'%(threshold - 1, rare_cnt))\n",
    "print('단어 집합에서 희귀 단어를 제외시킬 경우의 단어 집합의 크기 %s'%(total_cnt - rare_cnt))\n",
    "print(\"단어 집합에서 희귀 단어의 비율:\", (rare_cnt / total_cnt)*100)\n",
    "print(\"전체 등장 빈도에서 희귀 단어 등장 빈도 비율:\", (rare_freq / total_freq)*100)"
   ]
  },
  {
   "cell_type": "code",
   "execution_count": 28,
   "id": "equal-colonial",
   "metadata": {},
   "outputs": [],
   "source": [
    "src_vocab = 20000\n",
    "src_tokenizer = Tokenizer(num_words = src_vocab) # 단어 집합의 크기를 20,000으로 제한\n",
    "src_tokenizer.fit_on_texts(encoder_input_train) # 단어 집합 재생성."
   ]
  },
  {
   "cell_type": "code",
   "execution_count": 29,
   "id": "concerned-opening",
   "metadata": {},
   "outputs": [
    {
     "name": "stdout",
     "output_type": "stream",
     "text": [
      "[[30, 7366, 13585, 1349, 181, 51, 23, 1982, 325, 1284, 2669, 19131, 10327, 1284, 75, 1093, 1490, 1549, 448, 19131, 25, 337, 6298, 13585, 811, 5291, 3662, 76, 1284, 283, 231, 2683], [535, 22, 138, 18, 3044, 2740, 330, 1200, 2726, 1314, 19, 2029, 2095, 2567, 19, 22, 58, 4666, 16111, 12662, 415, 325, 250, 658, 540, 3592, 3044, 694, 1243, 6545, 2970, 1939, 1346, 3169, 12662, 1314, 19, 401, 7636, 2261], [1046, 614, 133, 10595, 126, 4295, 32, 3663, 10, 4260, 1582, 16112, 9, 248, 165, 1897, 2792, 67, 132, 682, 34, 7760, 1058, 15365, 64, 15365, 947, 1157, 368, 16113, 6369, 9821, 948]]\n"
     ]
    }
   ],
   "source": [
    "# 텍스트 시퀀스를 정수 시퀀스로 변환\n",
    "encoder_input_train = src_tokenizer.texts_to_sequences(encoder_input_train) \n",
    "encoder_input_test = src_tokenizer.texts_to_sequences(encoder_input_test)\n",
    "\n",
    "#잘 진행되었는지 샘플 출력\n",
    "print(encoder_input_train[:3])"
   ]
  },
  {
   "cell_type": "code",
   "execution_count": 30,
   "id": "corrected-reason",
   "metadata": {},
   "outputs": [],
   "source": [
    "tar_tokenizer = Tokenizer()\n",
    "tar_tokenizer.fit_on_texts(decoder_input_train)"
   ]
  },
  {
   "cell_type": "code",
   "execution_count": 31,
   "id": "respective-roots",
   "metadata": {},
   "outputs": [
    {
     "name": "stdout",
     "output_type": "stream",
     "text": [
      "단어 집합(vocabulary)의 크기 : 28503\n",
      "등장 빈도가 5번 이하인 희귀 단어의 수: 18807\n",
      "단어 집합에서 희귀 단어를 제외시킬 경우의 단어 집합의 크기 9696\n",
      "단어 집합에서 희귀 단어의 비율: 65.98252815493106\n",
      "전체 등장 빈도에서 희귀 단어 등장 빈도 비율: 5.19046872325029\n"
     ]
    }
   ],
   "source": [
    "threshold = 6\n",
    "total_cnt = len(tar_tokenizer.word_index) # 단어의 수\n",
    "rare_cnt = 0 # 등장 빈도수가 threshold보다 작은 단어의 개수를 카운트\n",
    "total_freq = 0 # 훈련 데이터의 전체 단어 빈도수 총 합\n",
    "rare_freq = 0 # 등장 빈도수가 threshold보다 작은 단어의 등장 빈도수의 총 합\n",
    "\n",
    "# 단어와 빈도수의 쌍(pair)을 key와 value로 받는다.\n",
    "for key, value in tar_tokenizer.word_counts.items():\n",
    "    total_freq = total_freq + value\n",
    "\n",
    "    # 단어의 등장 빈도수가 threshold보다 작으면\n",
    "    if(value < threshold):\n",
    "        rare_cnt = rare_cnt + 1\n",
    "        rare_freq = rare_freq + value\n",
    "\n",
    "print('단어 집합(vocabulary)의 크기 :',total_cnt)\n",
    "print('등장 빈도가 %s번 이하인 희귀 단어의 수: %s'%(threshold - 1, rare_cnt))\n",
    "print('단어 집합에서 희귀 단어를 제외시킬 경우의 단어 집합의 크기 %s'%(total_cnt - rare_cnt))\n",
    "print(\"단어 집합에서 희귀 단어의 비율:\", (rare_cnt / total_cnt)*100)\n",
    "print(\"전체 등장 빈도에서 희귀 단어 등장 빈도 비율:\", (rare_freq / total_freq)*100)"
   ]
  },
  {
   "cell_type": "code",
   "execution_count": 32,
   "id": "turkish-desire",
   "metadata": {},
   "outputs": [
    {
     "name": "stdout",
     "output_type": "stream",
     "text": [
      "input\n",
      "input  [[1, 2610, 162, 36, 29, 3223, 4, 314], [1, 1583, 1773, 1699, 123, 7, 1584, 30, 47, 5653], [1, 60, 233, 304, 3, 1565, 1860, 1250, 2051], [1, 1917, 8888, 1918, 13, 78, 509, 7, 1046, 869], [1, 9, 76, 4129, 606, 6, 60, 230, 1668, 33]]\n",
      "target\n",
      "decoder  [[2610, 162, 36, 29, 3223, 4, 314, 2], [1583, 1773, 1699, 123, 7, 1584, 30, 47, 5653, 2], [60, 233, 304, 3, 1565, 1860, 1250, 2051, 2], [1917, 8888, 1918, 13, 78, 509, 7, 1046, 869, 2], [9, 76, 4129, 606, 6, 60, 230, 1668, 33, 2]]\n"
     ]
    }
   ],
   "source": [
    "tar_vocab = 9000\n",
    "tar_tokenizer = Tokenizer(num_words = tar_vocab) \n",
    "tar_tokenizer.fit_on_texts(decoder_input_train)\n",
    "tar_tokenizer.fit_on_texts(decoder_target_train)\n",
    "\n",
    "# 텍스트 시퀀스를 정수 시퀀스로 변환\n",
    "decoder_input_train = tar_tokenizer.texts_to_sequences(decoder_input_train) \n",
    "decoder_target_train = tar_tokenizer.texts_to_sequences(decoder_target_train)\n",
    "decoder_input_test = tar_tokenizer.texts_to_sequences(decoder_input_test)\n",
    "decoder_target_test = tar_tokenizer.texts_to_sequences(decoder_target_test)\n",
    "\n",
    "#잘 변환되었는지 확인\n",
    "print('input')\n",
    "print('input ',decoder_input_train[:5])\n",
    "print('target')\n",
    "print('decoder ',decoder_target_train[:5])"
   ]
  },
  {
   "cell_type": "markdown",
   "id": "straight-melbourne",
   "metadata": {},
   "source": [
    "#### 이제 데이트를 처리할수 있도록 데이터를 정수화 시켜주고 등장빈도수가 7회 미만인 희귀단어들을 텍스트 데이터와 헤드라인 데이터에서 삭제시켜 줍니다."
   ]
  },
  {
   "cell_type": "code",
   "execution_count": 33,
   "id": "identified-services",
   "metadata": {},
   "outputs": [
    {
     "name": "stdout",
     "output_type": "stream",
     "text": [
      "삭제할 훈련 데이터의 개수 : 0\n",
      "삭제할 테스트 데이터의 개수 : 0\n",
      "훈련 데이터의 개수 : 68675\n",
      "훈련 레이블의 개수 : 68675\n",
      "테스트 데이터의 개수 : 17168\n",
      "테스트 레이블의 개수 : 17168\n"
     ]
    },
    {
     "name": "stderr",
     "output_type": "stream",
     "text": [
      "/home/aiffel-dj50/anaconda3/envs/aiffel/lib/python3.7/site-packages/numpy/core/_asarray.py:83: VisibleDeprecationWarning: Creating an ndarray from ragged nested sequences (which is a list-or-tuple of lists-or-tuples-or ndarrays with different lengths or shapes) is deprecated. If you meant to do this, you must specify 'dtype=object' when creating the ndarray\n",
      "  return array(a, dtype, copy=False, order=order)\n"
     ]
    }
   ],
   "source": [
    "drop_train = [index for index, sentence in enumerate(decoder_input_train) if len(sentence) == 1]\n",
    "drop_test = [index for index, sentence in enumerate(decoder_input_test) if len(sentence) == 1]\n",
    "\n",
    "print('삭제할 훈련 데이터의 개수 :',len(drop_train))\n",
    "print('삭제할 테스트 데이터의 개수 :',len(drop_test))\n",
    "\n",
    "encoder_input_train = np.delete(encoder_input_train, drop_train, axis=0)\n",
    "decoder_input_train = np.delete(decoder_input_train, drop_train, axis=0)\n",
    "decoder_target_train = np.delete(decoder_target_train, drop_train, axis=0)\n",
    "\n",
    "encoder_input_test = np.delete(encoder_input_test, drop_test, axis=0)\n",
    "decoder_input_test = np.delete(decoder_input_test, drop_test, axis=0)\n",
    "decoder_target_test = np.delete(decoder_target_test, drop_test, axis=0)\n",
    "\n",
    "print('훈련 데이터의 개수 :', len(encoder_input_train))\n",
    "print('훈련 레이블의 개수 :',len(decoder_input_train))\n",
    "print('테스트 데이터의 개수 :',len(encoder_input_test))\n",
    "print('테스트 레이블의 개수 :',len(decoder_input_test))"
   ]
  },
  {
   "cell_type": "code",
   "execution_count": 34,
   "id": "jewish-mixture",
   "metadata": {},
   "outputs": [],
   "source": [
    "encoder_input_train = pad_sequences(encoder_input_train, maxlen = text_max_len, padding='post')\n",
    "encoder_input_test = pad_sequences(encoder_input_test, maxlen = text_max_len, padding='post')\n",
    "decoder_input_train = pad_sequences(decoder_input_train, maxlen = headlines_max_len, padding='post')\n",
    "decoder_target_train = pad_sequences(decoder_target_train, maxlen = headlines_max_len, padding='post')\n",
    "decoder_input_test = pad_sequences(decoder_input_test, maxlen = headlines_max_len, padding='post')\n",
    "decoder_target_test = pad_sequences(decoder_target_test, maxlen = headlines_max_len, padding='post')"
   ]
  },
  {
   "cell_type": "markdown",
   "id": "correct-machinery",
   "metadata": {},
   "source": [
    "#### 최대 길이로 패딩작업을 해주는 것으로 전처리가 끝났습니다."
   ]
  },
  {
   "cell_type": "markdown",
   "id": "recovered-sheet",
   "metadata": {},
   "source": [
    "### Step 3. 어텐션 메커니즘 사용하기 (추상적 요약)\n",
    "\n",
    "일반적인 seq2seq보다는 어텐션 메커니즘을 사용한 seq2seq를 사용하는 것이 더 나은 성능을 얻을 수 있어요. 실습 내용을 참고하여 어텐션 메커니즘을 사용한 seq2seq를 설계해 보세요."
   ]
  },
  {
   "cell_type": "code",
   "execution_count": 35,
   "id": "identified-works",
   "metadata": {},
   "outputs": [
    {
     "name": "stdout",
     "output_type": "stream",
     "text": [
      "WARNING:tensorflow:Layer lstm will not use cuDNN kernel since it doesn't meet the cuDNN kernel criteria. It will use generic GPU kernel as fallback when running on GPU\n",
      "WARNING:tensorflow:Layer lstm_1 will not use cuDNN kernel since it doesn't meet the cuDNN kernel criteria. It will use generic GPU kernel as fallback when running on GPU\n",
      "WARNING:tensorflow:Layer lstm_2 will not use cuDNN kernel since it doesn't meet the cuDNN kernel criteria. It will use generic GPU kernel as fallback when running on GPU\n"
     ]
    }
   ],
   "source": [
    "from tensorflow.keras.layers import Input, LSTM, Embedding, Dense, Concatenate\n",
    "from tensorflow.keras.models import Model\n",
    "from tensorflow.keras.callbacks import EarlyStopping, ModelCheckpoint\n",
    "\n",
    "\n",
    "# 인코더 설계 시작\n",
    "embedding_dim = 128\n",
    "hidden_size = 256\n",
    "\n",
    "# 인코더\n",
    "encoder_inputs = Input(shape=(text_max_len,))\n",
    "\n",
    "# 인코더의 임베딩 층\n",
    "enc_emb = Embedding(src_vocab, embedding_dim)(encoder_inputs)\n",
    "\n",
    "# 인코더의 LSTM 1\n",
    "encoder_lstm1 = LSTM(hidden_size, return_sequences=True, return_state=True ,dropout = 0.4, recurrent_dropout = 0.4)\n",
    "encoder_output1, state_h1, state_c1 = encoder_lstm1(enc_emb)\n",
    "\n",
    "# 인코더의 LSTM 2\n",
    "encoder_lstm2 = LSTM(hidden_size, return_sequences=True, return_state=True, dropout=0.4, recurrent_dropout=0.4)\n",
    "encoder_output2, state_h2, state_c2 = encoder_lstm2(encoder_output1)\n",
    "\n",
    "# 인코더의 LSTM 3\n",
    "encoder_lstm3 = LSTM(hidden_size, return_state=True, return_sequences=True, dropout=0.4, recurrent_dropout=0.4)\n",
    "encoder_outputs, state_h, state_c= encoder_lstm3(encoder_output2)"
   ]
  },
  {
   "cell_type": "code",
   "execution_count": 36,
   "id": "wanted-authorization",
   "metadata": {},
   "outputs": [
    {
     "name": "stdout",
     "output_type": "stream",
     "text": [
      "WARNING:tensorflow:Layer lstm_3 will not use cuDNN kernel since it doesn't meet the cuDNN kernel criteria. It will use generic GPU kernel as fallback when running on GPU\n"
     ]
    }
   ],
   "source": [
    "# 디코더 설계\n",
    "\n",
    "decoder_inputs = Input(shape=(None,))\n",
    "\n",
    "# 디코더의 임베딩 층\n",
    "dec_emb_layer = Embedding(tar_vocab, embedding_dim)\n",
    "dec_emb = dec_emb_layer(decoder_inputs)\n",
    "\n",
    "# 디코더의 LSTM\n",
    "decoder_lstm = LSTM(hidden_size, return_sequences = True, return_state = True, dropout = 0.4, recurrent_dropout=0.2)\n",
    "decoder_outputs, _, _ = decoder_lstm(dec_emb, initial_state = [state_h, state_c])"
   ]
  },
  {
   "cell_type": "code",
   "execution_count": 37,
   "id": "complicated-nicaragua",
   "metadata": {},
   "outputs": [
    {
     "name": "stdout",
     "output_type": "stream",
     "text": [
      "Model: \"model\"\n",
      "__________________________________________________________________________________________________\n",
      "Layer (type)                    Output Shape         Param #     Connected to                     \n",
      "==================================================================================================\n",
      "input_1 (InputLayer)            [(None, 40)]         0                                            \n",
      "__________________________________________________________________________________________________\n",
      "embedding (Embedding)           (None, 40, 128)      2560000     input_1[0][0]                    \n",
      "__________________________________________________________________________________________________\n",
      "lstm (LSTM)                     [(None, 40, 256), (N 394240      embedding[0][0]                  \n",
      "__________________________________________________________________________________________________\n",
      "input_2 (InputLayer)            [(None, None)]       0                                            \n",
      "__________________________________________________________________________________________________\n",
      "lstm_1 (LSTM)                   [(None, 40, 256), (N 525312      lstm[0][0]                       \n",
      "__________________________________________________________________________________________________\n",
      "embedding_1 (Embedding)         (None, None, 128)    1152000     input_2[0][0]                    \n",
      "__________________________________________________________________________________________________\n",
      "lstm_2 (LSTM)                   [(None, 40, 256), (N 525312      lstm_1[0][0]                     \n",
      "__________________________________________________________________________________________________\n",
      "lstm_3 (LSTM)                   [(None, None, 256),  394240      embedding_1[0][0]                \n",
      "                                                                 lstm_2[0][1]                     \n",
      "                                                                 lstm_2[0][2]                     \n",
      "__________________________________________________________________________________________________\n",
      "dense (Dense)                   (None, None, 9000)   2313000     lstm_3[0][0]                     \n",
      "==================================================================================================\n",
      "Total params: 7,864,104\n",
      "Trainable params: 7,864,104\n",
      "Non-trainable params: 0\n",
      "__________________________________________________________________________________________________\n"
     ]
    }
   ],
   "source": [
    "# 디코더의 출력층\n",
    "decoder_softmax_layer = Dense(tar_vocab, activation = 'softmax')\n",
    "decoder_softmax_outputs = decoder_softmax_layer(decoder_outputs) \n",
    "\n",
    "# 모델 정의\n",
    "model = Model([encoder_inputs, decoder_inputs], decoder_softmax_outputs)\n",
    "model.summary()"
   ]
  },
  {
   "cell_type": "markdown",
   "id": "clinical-taxation",
   "metadata": {},
   "source": [
    "#### 가장 기본적인 seq2seq 설계를 사용해 봤습니다. 조금더 성능을 높는 수 있는 어텐션 메커니즘을 사용해 볼까요?"
   ]
  },
  {
   "cell_type": "code",
   "execution_count": 38,
   "id": "accessory-canon",
   "metadata": {},
   "outputs": [],
   "source": [
    "urllib.request.urlretrieve(\"https://raw.githubusercontent.com/thushv89/attention_keras/master/src/layers/attention.py\", filename=\"attention.py\")\n",
    "from attention import AttentionLayer"
   ]
  },
  {
   "cell_type": "markdown",
   "id": "graduate-course",
   "metadata": {},
   "source": [
    "#### 깃허브에 공개되어 있는 어텐션 함수를 다운로드 했습니다."
   ]
  },
  {
   "cell_type": "code",
   "execution_count": 39,
   "id": "burning-philadelphia",
   "metadata": {},
   "outputs": [
    {
     "name": "stdout",
     "output_type": "stream",
     "text": [
      "Model: \"model_1\"\n",
      "__________________________________________________________________________________________________\n",
      "Layer (type)                    Output Shape         Param #     Connected to                     \n",
      "==================================================================================================\n",
      "input_1 (InputLayer)            [(None, 40)]         0                                            \n",
      "__________________________________________________________________________________________________\n",
      "embedding (Embedding)           (None, 40, 128)      2560000     input_1[0][0]                    \n",
      "__________________________________________________________________________________________________\n",
      "lstm (LSTM)                     [(None, 40, 256), (N 394240      embedding[0][0]                  \n",
      "__________________________________________________________________________________________________\n",
      "input_2 (InputLayer)            [(None, None)]       0                                            \n",
      "__________________________________________________________________________________________________\n",
      "lstm_1 (LSTM)                   [(None, 40, 256), (N 525312      lstm[0][0]                       \n",
      "__________________________________________________________________________________________________\n",
      "embedding_1 (Embedding)         (None, None, 128)    1152000     input_2[0][0]                    \n",
      "__________________________________________________________________________________________________\n",
      "lstm_2 (LSTM)                   [(None, 40, 256), (N 525312      lstm_1[0][0]                     \n",
      "__________________________________________________________________________________________________\n",
      "lstm_3 (LSTM)                   [(None, None, 256),  394240      embedding_1[0][0]                \n",
      "                                                                 lstm_2[0][1]                     \n",
      "                                                                 lstm_2[0][2]                     \n",
      "__________________________________________________________________________________________________\n",
      "attention_layer (AttentionLayer ((None, None, 256),  131328      lstm_2[0][0]                     \n",
      "                                                                 lstm_3[0][0]                     \n",
      "__________________________________________________________________________________________________\n",
      "concat_layer (Concatenate)      (None, None, 512)    0           lstm_3[0][0]                     \n",
      "                                                                 attention_layer[0][0]            \n",
      "__________________________________________________________________________________________________\n",
      "dense_1 (Dense)                 (None, None, 9000)   4617000     concat_layer[0][0]               \n",
      "==================================================================================================\n",
      "Total params: 10,299,432\n",
      "Trainable params: 10,299,432\n",
      "Non-trainable params: 0\n",
      "__________________________________________________________________________________________________\n"
     ]
    }
   ],
   "source": [
    "# 어텐션 층(어텐션 함수)\n",
    "attn_layer = AttentionLayer(name='attention_layer')\n",
    "# 인코더와 디코더의 모든 time step의 hidden state를 어텐션 층에 전달하고 결과를 리턴\n",
    "attn_out, attn_states = attn_layer([encoder_outputs, decoder_outputs])\n",
    "\n",
    "# 어텐션의 결과와 디코더의 hidden state들을 연결\n",
    "decoder_concat_input = Concatenate(axis = -1, name='concat_layer')([decoder_outputs, attn_out])\n",
    "\n",
    "# 디코더의 출력층\n",
    "decoder_softmax_layer = Dense(tar_vocab, activation='softmax')\n",
    "decoder_softmax_outputs = decoder_softmax_layer(decoder_concat_input)\n",
    "\n",
    "# 모델 정의\n",
    "model = Model([encoder_inputs, decoder_inputs], decoder_softmax_outputs)\n",
    "model.summary()"
   ]
  },
  {
   "cell_type": "markdown",
   "id": "beautiful-customer",
   "metadata": {},
   "source": [
    "#### 디코더의 출력층을 수정하고 실행하였습니다. 이제 모델을 훈련해 봐야겠죠?"
   ]
  },
  {
   "cell_type": "code",
   "execution_count": 40,
   "id": "ordered-juice",
   "metadata": {
    "scrolled": true
   },
   "outputs": [
    {
     "name": "stdout",
     "output_type": "stream",
     "text": [
      "Epoch 1/30\n",
      "269/269 [==============================] - 89s 330ms/step - loss: 5.9491 - val_loss: 5.5362\n",
      "Epoch 2/30\n",
      "269/269 [==============================] - 87s 325ms/step - loss: 5.4075 - val_loss: 5.2020\n",
      "Epoch 3/30\n",
      "269/269 [==============================] - 89s 329ms/step - loss: 5.0492 - val_loss: 4.8954\n",
      "Epoch 4/30\n",
      "269/269 [==============================] - 87s 324ms/step - loss: 4.7531 - val_loss: 4.6814\n",
      "Epoch 5/30\n",
      "269/269 [==============================] - 87s 323ms/step - loss: 4.5239 - val_loss: 4.5289\n",
      "Epoch 6/30\n",
      "269/269 [==============================] - 88s 328ms/step - loss: 4.3359 - val_loss: 4.3819\n",
      "Epoch 7/30\n",
      "269/269 [==============================] - 86s 320ms/step - loss: 4.1738 - val_loss: 4.3040\n",
      "Epoch 8/30\n",
      "269/269 [==============================] - 86s 321ms/step - loss: 4.0339 - val_loss: 4.2223\n",
      "Epoch 9/30\n",
      "269/269 [==============================] - 87s 322ms/step - loss: 3.9086 - val_loss: 4.1530\n",
      "Epoch 10/30\n",
      "269/269 [==============================] - 88s 329ms/step - loss: 3.7982 - val_loss: 4.0981\n",
      "Epoch 11/30\n",
      "269/269 [==============================] - 90s 333ms/step - loss: 3.7008 - val_loss: 4.0527\n",
      "Epoch 12/30\n",
      "269/269 [==============================] - 86s 319ms/step - loss: 3.6108 - val_loss: 4.0085\n",
      "Epoch 13/30\n",
      "269/269 [==============================] - 86s 321ms/step - loss: 3.5292 - val_loss: 3.9839\n",
      "Epoch 14/30\n",
      "269/269 [==============================] - 87s 324ms/step - loss: 3.4505 - val_loss: 3.9454\n",
      "Epoch 15/30\n",
      "269/269 [==============================] - 87s 324ms/step - loss: 3.3828 - val_loss: 3.9280\n",
      "Epoch 16/30\n",
      "269/269 [==============================] - 88s 326ms/step - loss: 3.3158 - val_loss: 3.9057\n",
      "Epoch 17/30\n",
      "269/269 [==============================] - 87s 323ms/step - loss: 3.2551 - val_loss: 3.8855\n",
      "Epoch 18/30\n",
      "269/269 [==============================] - 87s 325ms/step - loss: 3.1995 - val_loss: 3.8813\n",
      "Epoch 19/30\n",
      "269/269 [==============================] - 87s 325ms/step - loss: 3.1462 - val_loss: 3.8610\n",
      "Epoch 20/30\n",
      "269/269 [==============================] - 90s 334ms/step - loss: 3.0998 - val_loss: 3.8488\n",
      "Epoch 21/30\n",
      "269/269 [==============================] - 91s 339ms/step - loss: 3.0561 - val_loss: 3.8440\n",
      "Epoch 22/30\n",
      "269/269 [==============================] - 87s 325ms/step - loss: 3.0145 - val_loss: 3.8415\n",
      "Epoch 23/30\n",
      "269/269 [==============================] - 92s 341ms/step - loss: 2.9714 - val_loss: 3.8382\n",
      "Epoch 24/30\n",
      "269/269 [==============================] - 99s 367ms/step - loss: 2.9292 - val_loss: 3.8358\n",
      "Epoch 25/30\n",
      "269/269 [==============================] - 97s 361ms/step - loss: 2.8890 - val_loss: 3.8186\n",
      "Epoch 26/30\n",
      "269/269 [==============================] - 88s 327ms/step - loss: 2.8529 - val_loss: 3.8143\n",
      "Epoch 27/30\n",
      "269/269 [==============================] - 88s 328ms/step - loss: 2.8192 - val_loss: 3.8215\n",
      "Epoch 28/30\n",
      "269/269 [==============================] - 87s 322ms/step - loss: 2.7849 - val_loss: 3.8200\n",
      "Epoch 00028: early stopping\n"
     ]
    }
   ],
   "source": [
    "model.compile(optimizer='rmsprop', loss='sparse_categorical_crossentropy')\n",
    "es = EarlyStopping(monitor='val_loss', mode='min', verbose=1, patience = 2)\n",
    "history = model.fit(x = [encoder_input_train, decoder_input_train], y = decoder_target_train, \\\n",
    "          validation_data = ([encoder_input_test, decoder_input_test], decoder_target_test),\n",
    "          batch_size = 256, callbacks=[es], epochs = 30)"
   ]
  },
  {
   "cell_type": "markdown",
   "id": "future-engineering",
   "metadata": {},
   "source": [
    "#### 검증 데이터의 손실이 줄어들지 않고 증가하는 현상이 2회 관측되어서 28 epoch에서 조기 종료 되었습니다."
   ]
  },
  {
   "cell_type": "code",
   "execution_count": 41,
   "id": "hollywood-amber",
   "metadata": {
    "scrolled": true
   },
   "outputs": [
    {
     "data": {
      "image/png": "[encoded data removed]",
      "text/plain": [
       "<Figure size 432x288 with 1 Axes>"
      ]
     },
     "metadata": {
      "needs_background": "light"
     },
     "output_type": "display_data"
    }
   ],
   "source": [
    "plt.plot(history.history['loss'], label='train')\n",
    "plt.plot(history.history['val_loss'], label='test')\n",
    "plt.legend()\n",
    "plt.show()"
   ]
  },
  {
   "cell_type": "markdown",
   "id": "outer-vocabulary",
   "metadata": {},
   "source": [
    "#### 그래프를 보니 loss와 val_loss값이 함께 감소하다 28 epoch에서 멈춘걸 확인할수 있네요."
   ]
  },
  {
   "cell_type": "code",
   "execution_count": 42,
   "id": "radio-adult",
   "metadata": {},
   "outputs": [],
   "source": [
    "src_index_to_word = src_tokenizer.index_word # 원문 단어 집합에서 정수 -> 단어를 얻음\n",
    "tar_word_to_index = tar_tokenizer.word_index # 표제 단어 집합에서 단어 -> 정수를 얻음\n",
    "tar_index_to_word = tar_tokenizer.index_word # 표제 단어 집합에서 정수 -> 단어를 얻음"
   ]
  },
  {
   "cell_type": "code",
   "execution_count": 43,
   "id": "utility-customer",
   "metadata": {},
   "outputs": [],
   "source": [
    "# 인코더 설계\n",
    "encoder_model = Model(inputs=encoder_inputs, outputs=[encoder_outputs, state_h, state_c])\n",
    "\n",
    "# 이전 시점의 상태들을 저장하는 텐서\n",
    "decoder_state_input_h = Input(shape=(hidden_size,))\n",
    "decoder_state_input_c = Input(shape=(hidden_size,))\n",
    "\n",
    "dec_emb2 = dec_emb_layer(decoder_inputs)\n",
    "# 문장의 다음 단어를 예측하기 위해서 초기 상태(initial_state)를 이전 시점의 상태로 사용. 이는 뒤의 함수 decode_sequence()에 구현\n",
    "# 훈련 과정에서와 달리 LSTM의 리턴하는 은닉 상태와 셀 상태인 state_h와 state_c를 버리지 않음.\n",
    "decoder_outputs2, state_h2, state_c2 = decoder_lstm(dec_emb2, initial_state=[decoder_state_input_h, decoder_state_input_c])"
   ]
  },
  {
   "cell_type": "code",
   "execution_count": 44,
   "id": "indirect-reality",
   "metadata": {},
   "outputs": [],
   "source": [
    "# 어텐션 함수\n",
    "decoder_hidden_state_input = Input(shape=(text_max_len, hidden_size))\n",
    "attn_out_inf, attn_states_inf = attn_layer([decoder_hidden_state_input, decoder_outputs2])\n",
    "decoder_inf_concat = Concatenate(axis=-1, name='concat')([decoder_outputs2, attn_out_inf])\n",
    "\n",
    "# 디코더의 출력층\n",
    "decoder_outputs2 = decoder_softmax_layer(decoder_inf_concat) \n",
    "\n",
    "# 최종 디코더 모델\n",
    "decoder_model = Model(\n",
    "    [decoder_inputs] + [decoder_hidden_state_input,decoder_state_input_h, decoder_state_input_c],\n",
    "    [decoder_outputs2] + [state_h2, state_c2])"
   ]
  },
  {
   "cell_type": "code",
   "execution_count": 45,
   "id": "aware-vienna",
   "metadata": {},
   "outputs": [],
   "source": [
    "def decode_sequence(input_seq):\n",
    "    # 입력으로부터 인코더의 상태를 얻음\n",
    "    e_out, e_h, e_c = encoder_model.predict(input_seq)\n",
    "\n",
    "     # <SOS>에 해당하는 토큰 생성\n",
    "    target_seq = np.zeros((1,1))\n",
    "    target_seq[0, 0] = tar_word_to_index['sostoken']\n",
    "\n",
    "    stop_condition = False\n",
    "    decoded_sentence = ''\n",
    "    while not stop_condition: # stop_condition이 True가 될 때까지 루프 반복\n",
    "\n",
    "        output_tokens, h, c = decoder_model.predict([target_seq] + [e_out, e_h, e_c])\n",
    "        sampled_token_index = np.argmax(output_tokens[0, -1, :])\n",
    "        sampled_token = tar_index_to_word[sampled_token_index]\n",
    "\n",
    "        if(sampled_token!='eostoken'):\n",
    "            decoded_sentence += ' '+sampled_token\n",
    "\n",
    "        #  <eos>에 도달하거나 최대 길이를 넘으면 중단.\n",
    "        if (sampled_token == 'eostoken'  or len(decoded_sentence.split()) >= (headlines_max_len-1)):\n",
    "            stop_condition = True\n",
    "\n",
    "        # 길이가 1인 타겟 시퀀스를 업데이트\n",
    "        target_seq = np.zeros((1,1))\n",
    "        target_seq[0, 0] = sampled_token_index\n",
    "\n",
    "        # 상태를 업데이트 합니다.\n",
    "        e_h, e_c = h, c\n",
    "\n",
    "    return decoded_sentence"
   ]
  },
  {
   "cell_type": "markdown",
   "id": "oriented-clerk",
   "metadata": {},
   "source": [
    "#### 정수 인덱스 행렬로 존재하는 텍스트 데이터를 복원하기 위한 인퍼런스 모델을 구현했습니다."
   ]
  },
  {
   "cell_type": "code",
   "execution_count": 46,
   "id": "coral-violation",
   "metadata": {},
   "outputs": [],
   "source": [
    "# 원문의 정수 시퀀스를 텍스트 시퀀스로 변환\n",
    "def seq2text(input_seq):\n",
    "    temp=''\n",
    "    for i in input_seq:\n",
    "        if(i!=0):\n",
    "            temp = temp + src_index_to_word[i]+' '\n",
    "    return temp\n",
    "\n",
    "# 표제문의 정수 시퀀스를 텍스트 시퀀스로 변환\n",
    "def seq2headlines(input_seq):\n",
    "    temp=''\n",
    "    for i in input_seq:\n",
    "        if((i!=0 and i!=tar_word_to_index['sostoken']) and i!=tar_word_to_index['eostoken']):\n",
    "            temp = temp + tar_index_to_word[i] + ' '\n",
    "    return temp"
   ]
  },
  {
   "cell_type": "markdown",
   "id": "vocational-middle",
   "metadata": {},
   "source": [
    "#### 주어진 정수 시퀀스를 텍스트 시퀀스로 변환하는 함수입니다."
   ]
  },
  {
   "cell_type": "markdown",
   "id": "standard-stocks",
   "metadata": {},
   "source": [
    "### Step 4. 실제 결과와 요약문 비교하기 (추상적 요약)\n",
    "\n",
    "원래의 요약문(headlines 열)과 학습을 통해 얻은 추상적 요약의 결과를 비교해보세요."
   ]
  },
  {
   "cell_type": "code",
   "execution_count": 47,
   "id": "nearby-narrow",
   "metadata": {},
   "outputs": [
    {
     "name": "stdout",
     "output_type": "stream",
     "text": [
      "원문 : music composer ar rahman sister ar said see anyone leaving wembley concert uk held july comes fans slammed rahman twitter performing tamil songs concert said rahman performed songs hindi added think indians think beyond boundaries \n",
      "실제 표제 : did not see anyone leaving rahman uk concert says sister \n",
      "예측 표제 :  sonali bendre slammed for calling concert on concert\n",
      "\n",
      "\n",
      "원문 : rapper kanye west shared video directed drake said people making rumours wife addressing speculations drake kiki song kim kanye added girlfriend named married rihanna would make song called kanye said know come \n",
      "실제 표제 : rumours drake kim know where kiki song came from kanye \n",
      "예측 표제 :  it is like your family kanye kanye on pic with\n",
      "\n",
      "\n",
      "원문 : hollywood actor ryan reynolds took social media share first look actress upcoming superhero film deadpool people know work red carpet wrote ryan portray superhero character domino film directed david deadpool scheduled release june \n",
      "실제 표제 : ryan reynolds shares st look of domino from deadpool \n",
      "예측 표제 :  ryan reynolds to star in ryan race\n",
      "\n",
      "\n",
      "원문 : year old us based transgender woman able breastfeed adopted child first case induced transgender women documented doctors patient taken hormone therapy six years took doctors advise chest breast milk pump achieved functional \n",
      "실제 표제 : transgender woman able to in st case \n",
      "예측 표제 :  us woman held for st woman to live in college\n",
      "\n",
      "\n",
      "원문 : telugu filmmaker puri interrogated ten hours special investigation team probing drug racket case hyderabad reportedly admitted sit drugs small quantities later twitter video puri claimed done anything illegal including drugs denied links racket \n",
      "실제 표제 : telugu director for hrs in drug racket case \n",
      "예측 표제 :  actor cosby arrested for months in drug case\n",
      "\n",
      "\n",
      "원문 : many people injured race car fired burning fuel crowd racing event alice springs australia car circles fuel flames thrown fans incident red centre festival investigated police \n",
      "실제 표제 : race car burning fuel into crowd injured \n",
      "예측 표제 :  video of flying car crashes into cars in us\n",
      "\n",
      "\n",
      "원문 : us named indian origin islamic state terrorist britain specially designated global terrorist also known abu al siddhartha dhar travelled syria join militant group us said dhar leading member defunct terrorist organisation al \n",
      "실제 표제 : us names indian origin isis militant as global terrorist \n",
      "예측 표제 :  us top terrorist was al qaeda for the first time\n",
      "\n",
      "\n",
      "원문 : authorities planning build km long storey high skyscraper bridge mid connect worli mumbai five agencies involved planning execution project cost around crore project initially planned made \n",
      "실제 표제 : mumbai to get skyscraper bridge connecting to \n",
      "예측 표제 :  lake to be crushed to mumbai lake\n",
      "\n",
      "\n",
      "원문 : england offering nearly reward recovery two blocks prize winning cheese stolen agricultural show two blocks stolen along certificates prove prize winning quality could raise value bit like valuable painting stolen said rich \n",
      "실제 표제 : offers reward to recover stolen cheese \n",
      "예측 표제 :  lakh reward for stolen stolen from london\n",
      "\n",
      "\n",
      "원문 : president ni hit forehead broke nose fainted bath said hot year old wrote facebook warm bath last night turned hot said rushed hospital received stitches fine \n",
      "실제 표제 : iceland president breaks nose during too hot bath \n",
      "예측 표제 :  president survives after falling from falling into train\n",
      "\n",
      "\n",
      "원문 : pakistan mohammad hafeez slammed icc rules suspect illegal bowling actions following handed show cause notice comments pakistan cricket board hafeez banned bowling said match referees field umpires able see degrees \n",
      "실제 표제 : pakistan bowler slams icc gets slammed by his own board \n",
      "예측 표제 :  pak court orders ban on pak board for\n",
      "\n",
      "\n",
      "원문 : second bail petition stayzilla co founder ceo yogendra vasupal rejected court tuesday vasupal arrested two weeks ago charges fraud paying dues vendors police lookout stayzilla another co founder vasupal family called arrest game character assassination \n",
      "실제 표제 : stayzilla arrested ceo bail plea rejected again \n",
      "예측 표제 :  cbi files bail in bribery case against mahindra\n",
      "\n",
      "\n",
      "원문 : american airlines co pilot died cockpit minutes flight landed mexico wednesday official said co pilot fallen ill shortly flight due land american airlines ceo doug parker said deeply saddened loss one american airlines family flight carrying passengers landed safely \n",
      "실제 표제 : american airlines co pilot dies during landing \n",
      "예측 표제 :  flight makes emergency landing after plane crash\n",
      "\n",
      "\n",
      "원문 : british physicist stephen hawking interview bbc warned close point global warming becomes irreversible hawking criticised us president donald trump pulling us paris climate agreement saying trump action could push earth become like venus temperature acid \n",
      "실제 표제 : hawking slams trump warns earth could become like venus \n",
      "예측 표제 :  hawking will be world climate change ex hawking\n",
      "\n",
      "\n",
      "원문 : terrorists looted lakh bank jammu kashmir anantnag district thursday separate incident terrorists hurled grenades near beauty parlour pulwama main chowk injuring one girl per reports incidents robbery terrorists state increased ever since demonetisation announced november \n",
      "실제 표제 : terrorists loot more than lakh from bank \n",
      "예측 표제 :  terrorists loot bank terror bid to martyred in\n",
      "\n",
      "\n",
      "원문 : prime accused stabbing year old junaid khan train last month arrested maharashtra saturday junaid returning home brothers eid shopping stabbed death mob altercation seats train attackers called beef eater anti national \n",
      "실제 표제 : man accused of year old junaid on train arrested \n",
      "예측 표제 :  former pm modi accuses woman of being hit by train\n",
      "\n",
      "\n",
      "원문 : united nations educational scientific cultural organisation awarded heritage status traditional italian art pizza tossing terming recognition victory italy government said step towards protection country food wine heritage india kumbh mela also added unesco heritage list \n",
      "실제 표제 : italy pizza toss wins unesco heritage status \n",
      "예측 표제 :  un to allow girls to wear gay swimming\n",
      "\n",
      "\n",
      "원문 : south western railway tuesday announced eliminated unmanned level crossing gates around bengaluru making first city attain feat gates closed railways manned remaining gates alert commuters round clock said statement \n",
      "실제 표제 : railways all unmanned level in luru \n",
      "예측 표제 :  what is the most expensive and\n",
      "\n",
      "\n",
      "원문 : criticising yogi adityanath led uttar pradesh government loan waiver farmers congress tuesday said like drop ocean promise made uttar pradesh government half truth positive initiative half truth congress spokesperson randeep surjewala said \n",
      "실제 표제 : up govt farmer loan waiver like drop in the ocean cong \n",
      "예측 표제 :  yogi urges yogi to give up farm promises to floods\n",
      "\n",
      "\n",
      "원문 : calling ola uber business model fundamentally flawed zoomcar co founder ceo greg said ride sharing business never make money noted ride sharing driver based mobility become profitable driver eliminated highlighted startups growing fast pace india \n",
      "실제 표제 : ola uber will never make money zoomcar co founder \n",
      "예측 표제 :  uber co founder says he is an uber co founder\n",
      "\n",
      "\n",
      "원문 : alleging playing dirty politics trinamool congress leader mondal reportedly threatened break legs leader opposition abdul cpi leader bhattacharya comes ahead opposition scheduled meeting address farmers demanding return agricultural land taken away university housing project state government \n",
      "실제 표제 : tmc leader threatens to break legs of opposition leaders \n",
      "예측 표제 :  cong leader booked for killing of mamata banerjee\n",
      "\n",
      "\n",
      "원문 : mumbai first air conditioned suburban local train start operations january railway minister piyush goyal said wednesday officials said fares around times cost first class tickets existing local trains train reportedly scheduled run month delayed due operational issues \n",
      "실제 표제 : mumbai first ac local train to run from january \n",
      "예측 표제 :  mumbai airport to be st train to be\n",
      "\n",
      "\n",
      "원문 : lisa jobs daughter late apple co founder steve jobs book small fry revealed steve talking college said productive years kills creativity teach people think quoted lisa added talking middle school steve said would better kids sailed around world \n",
      "실제 표제 : dad said college kills steve jobs daughter lisa \n",
      "예측 표제 :  was like to prove depression co founder\n",
      "\n",
      "\n",
      "원문 : probe ordered food packets served children anganwadi centre uttarakhand allegedly labelled containing beef reportedly food packets contained made beef mentioned instead people also questioned used plastic bags used pack food \n",
      "실제 표제 : beef in of food served to kids \n"
     ]
    },
    {
     "name": "stdout",
     "output_type": "stream",
     "text": [
      "예측 표제 :  missing kids found in up after eating beef\n",
      "\n",
      "\n",
      "원문 : slamming us claiming victory islamic state mosul achievement iraq vice president al said us contributed creation militant group first place malik added mosul achievement iraqi people however recognised us support country army allied forces \n",
      "실제 표제 : us created isis now claims victory over it iraq vp \n",
      "예측 표제 :  us has been an isis for peace iran\n",
      "\n",
      "\n",
      "원문 : thirty two indians allegedly held captive employers malaysia kolkata based ngo claimed two group members claimed video passports visas confiscated malaysia lured pay package made pay taken malaysia tourist visa ngo said \n",
      "실제 표제 : indians held captive in malaysia by claims ngo \n",
      "예측 표제 :  indians detained in dubai for visa theft\n",
      "\n",
      "\n",
      "원문 : pakistan prime minister imran khan sister named report country federal investigation agency listing prominent figures government officials benami property uae according report submitted supreme court owns benami property dubai stated notice sent email \n",
      "실제 표제 : pakistan pm sister named in govt benami property report \n",
      "예측 표제 :  pak pm imran khan seeks bail in corruption case\n",
      "\n",
      "\n",
      "원문 : filmmaker vikram bhatt said shah rukh khan aamir khan film guarantee success added today people go enjoy favourite happy sad thrilled minus good story vikram known making horror films said like peddling fear \n",
      "실제 표제 : srk or an aamir in film does not guarantee success vikram \n",
      "예측 표제 :  srk is not work between india in bollywood films\n",
      "\n",
      "\n",
      "원문 : last known letter written board passenger died titanic sank sold crore believed record price written first class passenger mother day ship hit iceberg part letter reads goes well arrive new york wednesday \n",
      "실제 표제 : letter written on titanic sells for crore at an auction \n",
      "예측 표제 :  man who once sells crore worth crore\n",
      "\n",
      "\n",
      "원문 : hong kong pay million citizens cash amid reports lakh crore surplus annual budget beneficiaries would include directly benefit budget including ones property receive government allowances financial secretary paul chan said \n",
      "실제 표제 : hong kong to pay one third of its citizens each \n",
      "예측 표제 :  hong kong to pay mn bonus for cr\n",
      "\n",
      "\n",
      "원문 : kochi metro started commissioned months shortest time among indian metro services provide boat rides stations people living banks apart low floor buses additionally stations rooftops solar panels every sixth pillar vertical garden \n",
      "실제 표제 : what are the unique features of the kochi metro \n",
      "예측 표제 :  mumbai metro to get st metro stations\n",
      "\n",
      "\n",
      "원문 : bjp leader subramanian swamy slammed rajinikanth hinting join politics saying political situation tamil nadu demand candidates idea constitution fundamental rights matter better sticks cinema since deliver dialogues well entertain people swamy said \n",
      "실제 표제 : tn does not need candidates swamy on rajinikanth \n",
      "예측 표제 :  bjp chief swamy calls for not acting\n",
      "\n",
      "\n",
      "원문 : iraq iran hold joint military drills along border kurdistan region iran state media reported comes wake kurdistan independence referendum termed unconstitutional iraq supporting iraqi government referendum iran closed borders stopped flights kurdistan \n",
      "실제 표제 : iraq iran to hold joint drills along border \n",
      "예측 표제 :  iran to hold iran for st time in iran\n",
      "\n",
      "\n",
      "원문 : supreme court appointed committee administrators member diana edulji reportedly accused bcci ceo rahul johri lacking professionalism comes bcci announced women cricket team coach despite asked keep announcement edulji also reportedly asked johri refer sc order highlighting report coa \n",
      "실제 표제 : coa diana accuses bcci ceo for lack of report \n",
      "예측 표제 :  bcci appoints bcci ceo coa to bcci over india coach\n",
      "\n",
      "\n",
      "원문 : retired jammu kashmir alleged bjp mla gagan bhagat kidnapped daughter student university punjab however daughter refuted allegation kidnapped claiming parents forcing marriage calling mla good person said family supporter pdp may reason \n",
      "실제 표제 : ex soldier claims bjp mla abducted daughter girl denies it \n",
      "예측 표제 :  bjp mla son accused of raping minor daughter in mp\n",
      "\n",
      "\n",
      "원문 : astronauts floating space experience persistent fever body temperature increasing per germany based study space station astronauts researchers found astronauts core body temperature increased gradually months reaching exercise temperature exceeded sweat slowly space earth \n",
      "실제 표제 : extended missions cause space fever in astronauts study \n",
      "예측 표제 :  space station astronauts study\n",
      "\n",
      "\n",
      "원문 : billionaire jeweller nirav modi lawyer vijay aggarwal said fate pnb billion fraud case client aggarwal asked media basis branded nirav fugitive earlier aggarwal said probing agencies able prove charges nirav court \n",
      "실제 표제 : fate of pnb case nirav lawyer \n",
      "예측 표제 :  nirav modi is not nirav modi lawyer\n",
      "\n",
      "\n",
      "원문 : crore permanent account numbers linked aadhaar till august last date filing income tax returns senior income tax department officer said constitutes nearly total crore pan holders notably three crore linkages done june july \n",
      "실제 표제 : over crore linked with aadhaar till august \n",
      "예측 표제 :  aadhaar pan with pan cards linked to file tax\n",
      "\n",
      "\n",
      "원문 : facebook tuesday removed accounts displayed misleading political behaviour linked campaigns iran russia ban kind behaviour want people able trust connections make facebook ceo mark zuckerberg said twitter also removed accounts coordinated manipulation many originated iran \n",
      "실제 표제 : facebook takes down over accounts linked to iran russia \n",
      "예측 표제 :  facebook removes russian meddling in russian ads\n",
      "\n",
      "\n",
      "원문 : gandhi murder film based mahatma gandhi assassination release india certain elements issued threats film producer lakshmi iyer said indians sensitive learn truth clearly time lakshmi said film set release worldwide january mahatma gandhi death anniversary \n",
      "실제 표제 : the gandhi murder india release cancelled due to threats \n",
      "예측 표제 :  mahatma gandhi murder of india\n",
      "\n",
      "\n",
      "원문 : actor smith said regretted dating husband smith divorce finalised first wife understand marriage understand divorce probably fell back said actress revealed talking smith first wife talk show \n",
      "실제 표제 : regret dating him before divorce smith wife to his ex \n",
      "예측 표제 :  my husband is my wife is not marry me filmfare\n",
      "\n",
      "\n",
      "원문 : la based mobile gaming startup wonder announced products yet said raised crore funding singer actor kevin spacey football player neymar jr among others startup also backed robotics communication wonder says building hybrid smartphone gaming console \n",
      "실제 표제 : neymar jr invest in startup yet to unveil product \n",
      "예측 표제 :  startup raises crore from startup\n",
      "\n",
      "\n",
      "원문 : kxip yuvraj singh batting average ipl worst ever ipl season yuvraj managed score runs eight ipl matches almost four times fewer runs scored last season also first season yuvraj strike rate \n",
      "실제 표제 : yuvraj hit th the runs he hit in ipl \n",
      "예측 표제 :  yuvraj singh slams ipl for ipl final\n",
      "\n",
      "\n",
      "원문 : talking rafale deal finance minister arun jaitley said negotiated finally executed currency variations basic aircraft price turns cheaper congress party aware jaitley asked adding party must remember cannot fool people time \n",
      "실제 표제 : basic aircraft price in rafale deal cheaper arun jaitley \n",
      "예측 표제 :  demonetisation is very much arun jaitley\n",
      "\n",
      "\n",
      "원문 : former boxing champion usa floyd mayweather posed republic ireland flag mock irish opponent conor mcgregor irish ufc fighter response snatched mayweather backpack revealed one cash around duo currently four city tour promote upcoming boxing match \n",
      "실제 표제 : mayweather uses mcgregor country flag to mock him \n",
      "예측 표제 :  floyd mayweather to be auctioned for mayweather\n",
      "\n",
      "\n",
      "원문 : indian customs intelligence accused adani group fraudulently siphoning million offshore accounts submitting inflated bills electricity project billionaire gautam adani led group allegedly ordered equipment worth hundreds millions dollars project using dubai shell firm firm sold equipment adani group inflated prices \n",
      "실제 표제 : adani group accused of illegally crore \n",
      "예측 표제 :  cbi files case against firms for cr stolen\n",
      "\n",
      "\n",
      "원문 : world heaviest woman eman ahmed sister salim claimed declarations made doctors massive weight loss false added critical surgery doctors refuted allegations said eman sick suffered days ago second time got \n",
      "실제 표제 : world heaviest woman critical post surgery claims her kin \n",
      "예측 표제 :  was molested by woman in the world\n",
      "\n",
      "\n",
      "원문 : actor kamal haasan reacting threats beheading deepika padukone row padmavati tweeted want ms deepika head saved respect body even freedom deny added haasan wrote extremism debate adding wake india time think \n",
      "실제 표제 : want deepika head saved haasan on padmavati row \n"
     ]
    },
    {
     "name": "stdout",
     "output_type": "stream",
     "text": [
      "예측 표제 :  deepika should be hurt if he is expels deepika\n",
      "\n",
      "\n",
      "원문 : pankaj tripathi said acting like game badminton adding actors either side court players good game automatically becomes interesting talking working actress richa chadha pankaj said makes good interesting match boring one \n",
      "실제 표제 : acting is like game of badminton pankaj \n",
      "예측 표제 :  playing with actors in game of thrones\n",
      "\n",
      "\n",
      "원문 : uttar pradesh chief minister yogi adityanath said many created due saffron clad look insulting india traditions name secularism feeling threatened said win hearts sections people style working would spread happiness prosperity added \n",
      "실제 표제 : there are due to my saffron clad look yogi \n",
      "예측 표제 :  up cm yogi adityanath to be up in up\n",
      "\n",
      "\n",
      "원문 : blaming infosys gst network glitches traders body cait said take shelter court law action taken company infosys made gst portal brought much harassment mental agony traders added cait said one allowed run away public money \n",
      "실제 표제 : infosys threatened with legal action over gstn \n",
      "예측 표제 :  aircel denies reports of airtel biz to disclose jio leak\n",
      "\n",
      "\n",
      "원문 : akshay kumar said knew nothing sanitary pads added nobody family asked buy sanitary napkin last two years came know detail akshay said menstruating women considered polluted time get rid attached \n",
      "실제 표제 : knew nothing about sanitary pads till was akshay kumar \n",
      "예측 표제 :  gst is not my toilet ek prem katha akshay\n",
      "\n",
      "\n",
      "원문 : world number india ramkumar defeated french open semi world number dominic enter quarterfinals open turkey tuesday year old took minutes upset scoreline became first indian tennis player beat top player singles since \n",
      "실제 표제 : world no india beats ranked \n",
      "예측 표제 :  world no to open world th title\n",
      "\n",
      "\n",
      "원문 : north korea suggested monday continue nuclear weapons tests saying bolster nuclear force maximum consecutive successive way moment notably north korea conducting nuclear tests unprecedented rate believed made progress developing intermediate range submarine launched missiles \n",
      "실제 표제 : will increase nuclear force to the maximum north korea \n",
      "예측 표제 :  korea nuclear test nuclear test than nukes us\n",
      "\n",
      "\n",
      "원문 : video maharashtra bjp leader ravindra kissing woman moving bus surfaced following woman filed rape case man woman told police promised marry also get job ever since video went viral politician absconding \n",
      "실제 표제 : video shows bjp leader kissing woman in moving bus \n",
      "예측 표제 :  bjp leader booked for raping woman in bihar\n",
      "\n",
      "\n",
      "원문 : magnitude earthquake wednesday struck russia eastern peninsula sea depth kilometres us geological survey said however russia emergencies ministry declared tsunami threat due quake earthquake happened vicinity volcano recently activated inactive years \n",
      "실제 표제 : earthquake of magnitude hits russia \n",
      "예측 표제 :  magnitude earthquake hit by us after earthquake\n",
      "\n",
      "\n",
      "원문 : former policewoman painted beard face allegedly robbed bank california tuesday later arrested releasing photographs police said suspect build appeared painted beard accused jennifer allegedly handed note demanding money fled bank immediately \n",
      "실제 표제 : ex policewoman with fake painted beard robs bank \n",
      "예측 표제 :  ex man who stole audi to sell her arrested\n",
      "\n",
      "\n",
      "원문 : yesteryear actress featured song film passed away wednesday age talking demise nephew khan said cardiac problems also things led demise notably worked films like cid china town \n",
      "실제 표제 : actress passes away aged \n",
      "예측 표제 :  madhuri was late actor for late actor ali fazal\n",
      "\n",
      "\n",
      "원문 : kxip yuvraj singh recorded worst strike rate player faced balls ipl yuvraj scored runs including six many balls run mi friday yuvraj scored runs innings season highest score \n",
      "실제 표제 : yuvraj singh records ipl worst strike rate at \n",
      "예측 표제 :  yuvraj singh smashes his own fifty in ipl\n",
      "\n",
      "\n",
      "원문 : two senior clerics delhi hazrat nizamuddin dargah reported missing pakistan taken custody intelligence agencies suspicious activities per reports reported missing families unable contact pakistan gone pilgrimage fir reportedly filed clerics yet \n",
      "실제 표제 : indian clerics held for suspicious activities in pak report \n",
      "예측 표제 :  women clerics return to death in delhi jail for months\n",
      "\n",
      "\n",
      "원문 : year old us man arrested allegedly attacking year old indian origin woman subway left fractured spine accused allah allegedly hurled homophobic slurs woman physically attacking charged assault hate crime aggravated harassment hate crime \n",
      "실제 표제 : us man arrested for attacking indian origin woman on subway \n",
      "예측 표제 :  indian man arrested for molesting woman in us\n",
      "\n",
      "\n",
      "원문 : conventional theory holds earth crust formed volcanic activity however canada based university scientists proposed components settled surface atmosphere time scientists melted materials simulated ancient atmospheric conditions found similarly dissolved materials earth crust \n",
      "실제 표제 : scientists propose new theory for formation of earth \n",
      "예측 표제 :  scientists discover new planets\n",
      "\n",
      "\n",
      "원문 : uttar pradesh police booked people charges hurting religious sentiments allegedly assaulted two medical students meerut one students muslim female hindu friend assailants barged house beat girl claimed pressurised file rape complaint friend \n",
      "실제 표제 : people who assaulted medical students in meerut booked \n",
      "예측 표제 :  up police booked for calling students\n",
      "\n",
      "\n",
      "원문 : audio clip allegedly featuring patidar anamat andolan samiti leader narendra patel surfaced friday patel heard telling man offered shout slogans bjp national president amit shah event surat however patel claimed voice clip demanded probe allegation \n",
      "실제 표제 : got to slogans against amit shah patidar leader \n",
      "예측 표제 :  former dmk leader hardik patel joins bjp leader\n",
      "\n",
      "\n",
      "원문 : liquor baron loan defaulter vijay mallya arrested london police tuesday mallya appeared westminster magistrates court later day beleaguered businessman wanted india defaulting loans worth around crore related kingfisher airlines grounded \n",
      "실제 표제 : vijay mallya arrested in london \n",
      "예측 표제 :  vijay mallya arrested for mallya\n",
      "\n",
      "\n",
      "원문 : several men slammed espn one body issue covers features athlete posing nude add homosexual resume commented user need see breakfast read another comment another user wrote espn sports stands sports \n",
      "실제 표제 : men slam for featuring nude male on magazine cover \n",
      "예측 표제 :  women slammed for wearing racist\n",
      "\n",
      "\n",
      "원문 : pakistan national assembly wednesday unanimously adopted resolution dismissing us president donald trump new south asia policy allegations country supporting terrorism denouncing disregard pakistan sacrifices us foreign minister khawaja asif said national assembly stands country armed forces fight terrorism \n",
      "실제 표제 : pak passes resolution rejecting trump south asia policy \n",
      "예측 표제 :  pakistan banerjee to hold us assembly for nuclear talks\n",
      "\n",
      "\n",
      "원문 : ensure justice dalveer bhandari election international court justice external affairs minister sushma swaraj directly spoke counterparts nearly countries push case officials said support sought around nations intense positive campaign carried justice bhandari candidature ministry \n",
      "실제 표제 : how sushma swaraj victory at icj \n",
      "예측 표제 :  india to sushma india for st time in india\n",
      "\n",
      "\n",
      "원문 : thailand reportedly ban smoking beaches including november violators face one year prison maximum fine following trial period ban expected enforced beaches thailand \n",
      "실제 표제 : thailand to ban smoking on beaches \n",
      "예측 표제 :  thailand bans water from using toilet to\n",
      "\n",
      "\n",
      "원문 : stanford university researchers developed stretchable electronic skin sensitive enough feel footsteps artificial waterproof skin stretch twice size without impacting sensors due hi tech polymer technology could used make elastic use smart clothing wearable electronics said researchers \n",
      "실제 표제 : electronic skin sensitive enough to feel moving insect made \n",
      "예측 표제 :  researchers develop ai which can identify skin skin\n",
      "\n",
      "\n",
      "원문 : ecuador intervene uk behalf wikileaks founder julian assange talks situation embassy foreign minister jos valencia said assange lawyers representatives british government added comes assange living ecuador london embassy sued country violating rights \n",
      "실제 표제 : will not with uk on assange behalf says ecuador \n",
      "예측 표제 :  ecuador rejects assange request to leave assange over assange\n",
      "\n",
      "\n",
      "원문 : bihar cm nitish kumar tuesday said one nation one poll good idea feasible general elections kumar advocating simultaneous polls state assemblies lok sabha responding query journalists letter written bjp president amit shah law commission issue nnn \n",
      "실제 표제 : one nation one poll not in polls nitish \n"
     ]
    },
    {
     "name": "stdout",
     "output_type": "stream",
     "text": [
      "예측 표제 :  nitish kumar to be nitish kumar in bihar\n",
      "\n",
      "\n",
      "원문 : filmmaker karan johar said indian cinema victim global stage adding way aamir films performing china proves make huge mark globally johar said feels sad seeing people worldwide misconception indian cinema song dance \n",
      "실제 표제 : indian cinema victim of on global stage johar \n",
      "예측 표제 :  india is the biggest film in india johar johar\n",
      "\n",
      "\n",
      "원문 : credit rating agency moody said mukesh ambani led reliance industries credit rating affected acquisition reliance communications wireless infrastructure assets crore moody said ril cash cash crore used fund acquisition moody given baa rating stable outlook ril \n",
      "실제 표제 : rcom assets purchase not to impact ril ratings moody \n",
      "예측 표제 :  rcom to invest cr in debt rcom\n",
      "\n",
      "\n",
      "원문 : television show host comedian kapil sharma said former colleague kapil sharma show sunil grover come back whenever wishes sunil friend brother even went meet added kapil said whatever happened flight blown proportion \n",
      "실제 표제 : sunil grover can come back he wishes to kapil \n",
      "예측 표제 :  kapil sharma is the sunil grover\n",
      "\n",
      "\n",
      "원문 : talking trolls abuses blog posts actor amitabh bachchan said get bigger improve standing dignity added grateful drives better longer better mind big said time abuse \n",
      "실제 표제 : trolls me to get bigger and improve myself big \n",
      "예측 표제 :  am not just just just just work in work amitabh\n",
      "\n",
      "\n",
      "원문 : new zealand martin guptill went unsold ipl auction slammed ball ton australia register fastest ton nation guptill former new zealand captain brendon mccullum ball record also went past former captain record runs become highest run scorer cricket \n",
      "실제 표제 : unsold at ipl auction player slams fastest ton for nz \n",
      "예측 표제 :  rcb record costliest fifty in an innings in history\n",
      "\n",
      "\n",
      "원문 : filmmaker sanjay leela bhansali said vandalism sets film padmavati unjustified unacceptable added merely based allegations accusations facts intend hurt sentiments community recently film sets vandalised set fire kolhapur \n",
      "실제 표제 : vandalism on padmavati set unacceptable sanjay \n",
      "예측 표제 :  bhansali is not fear of padmavati bhansali\n",
      "\n",
      "\n",
      "원문 : indian air force thursday successfully conducted first air air refuelling mission using aircraft allow jet specialised conduct airborne early warning control functions fly duration beyond stated endurance ten minute flight refuelling generate additional four hours flying endurance \n",
      "실제 표제 : iaf carries out first air to air in jet \n",
      "예측 표제 :  iaf pilots in air india flight aircraft report\n",
      "\n",
      "\n",
      "원문 : argentina world cup winning captain diego maradona recovering successfully undergoing operation stomach bleeding year old former juniors player discovered problem early january maradona fallen ill world cup russia fainted executive box argentina nigeria game \n",
      "실제 표제 : maradona recovering after operation for stomach bleeding \n",
      "예측 표제 :  maradona suffers maradona undergoes ball with\n",
      "\n",
      "\n",
      "원문 : first poster upcoming salman khan katrina kaif starrer tiger zinda hai unveiled actors reprise role tiger zoya sequel film ek tha tiger directed ali abbas zafar tiger zinda hai scheduled release december \n",
      "실제 표제 : first poster of salman katrina tiger zinda hai unveiled \n",
      "예측 표제 :  first poster of salman katrina from tiger zinda out\n",
      "\n",
      "\n",
      "원문 : spectator proposed girlfriend stands second india england odi lord cricket ground saturday man got one knee proposed girlfriend local broadcasters flashed caption decision pending woman accepted proposal broadcasters displayed caption said yes \n",
      "실제 표제 : fan proposes to girlfriend during india eng odi at lord \n",
      "예측 표제 :  fan invades england kohli to marry kohli in england\n",
      "\n",
      "\n",
      "원문 : australia selling variety indian mangoes first time inaugural consignment nearly landing sydney first consignment little disappointing fruit little bit skin said perfection fresh australia australia largest fresh produce marketing company eating quality quite nice added \n",
      "실제 표제 : australia to sell of indian for st time \n",
      "예측 표제 :  india first underwater test ship was launched in india\n",
      "\n",
      "\n",
      "원문 : nisha served assistant state secretary south central asia ex us president barack obama government appointed us india business council president awarded bharatiya award driven leader strong record advancing us business across asia said \n",
      "실제 표제 : ex obama govt diplomat appointed us india trade body head \n",
      "예측 표제 :  india has the most powerful leader of india\n",
      "\n",
      "\n",
      "원문 : japanese conglomerate wednesday agreed sell flash memory chip business consortium led capital private equity world second largest producer nand memory chips said deal worth billion according reports billion holding company set led consortium \n",
      "실제 표제 : to sell chip business to led group for bn \n",
      "예측 표제 :  japan japan to buy rival maker for bn\n",
      "\n",
      "\n",
      "원문 : nandamuri actor politician son former andhra pradesh cm rama rao passed away aged succumbing injuries suffered road accident wednesday reportedly tdp leader driving car hit divider overturned highway two people injured accident \n",
      "실제 표제 : former andhra cm son passes away after road accident \n",
      "예측 표제 :  former mla son passes away at\n",
      "\n",
      "\n",
      "원문 : film hotel mumbai based mumbai terror attacks received standing premiered toronto international film festival dev patel plays role waiter hotel film said filming difficult emotions involved film marks feature directorial debut anthony \n",
      "실제 표제 : mumbai attack documentary at \n",
      "예측 표제 :  mumbai airport to be screened at cannes film fest\n",
      "\n",
      "\n",
      "원문 : actor del toro starred collector avengers infinity war said believes character still alive earlier appearing talk show late show stephen colbert host asked appear die appear avengers responding \n",
      "실제 표제 : feel collector from avengers infinity war still alive \n",
      "예측 표제 :  was shot in my name in my film avengers infinity\n",
      "\n",
      "\n",
      "원문 : centre proposed allow premature closure public provident fund accounts currently premature closure allowed specific conditions expenditure towards medical treatment higher education government also proposed allow opening small savings accounts name minors allow early closure certain conditions \n",
      "실제 표제 : centre proposes to allow premature closure of accounts \n",
      "예측 표제 :  centre may allow to ban on\n",
      "\n",
      "\n",
      "원문 : radhika apte recalling one bad experiences said producer tried use power took jewellery said bye bye sued nothing happened talking metoo movement said secure environment women men function society work front \n",
      "실제 표제 : producer tried to use his power said radhika apte \n",
      "예측 표제 :  was not my own to face weight\n",
      "\n",
      "\n"
     ]
    }
   ],
   "source": [
    "for i in range(10, 100):\n",
    "    print(\"원문 :\", seq2text(encoder_input_test[i]))\n",
    "    print(\"실제 표제 :\", seq2headlines(decoder_input_test[i]))\n",
    "    print(\"예측 표제 :\", decode_sequence(encoder_input_test[i].reshape(1, text_max_len)))\n",
    "    print(\"\\n\")"
   ]
  },
  {
   "cell_type": "markdown",
   "id": "earned-winner",
   "metadata": {},
   "source": [
    "#### 이거 웃어야 하나요? 울어야 하나요? 일단 문맥이 맞지 않은 헤드라인이 출력 되었고, 본문에 있는 단어가 두개씩 표제에 들어가 있습니다. 성능이 그렇게 좋아 보이지는 않습니다."
   ]
  },
  {
   "cell_type": "markdown",
   "id": "likely-flash",
   "metadata": {},
   "source": [
    "### Step 5. Summa을 이용해서 추출적 요약해보기"
   ]
  },
  {
   "cell_type": "code",
   "execution_count": 48,
   "id": "enabling-folder",
   "metadata": {},
   "outputs": [],
   "source": [
    "import requests\n",
    "from summa.summarizer import summarize"
   ]
  },
  {
   "cell_type": "code",
   "execution_count": 1,
   "id": "catholic-colleague",
   "metadata": {},
   "outputs": [
    {
     "ename": "NameError",
     "evalue": "name 'pd' is not defined",
     "output_type": "error",
     "traceback": [
      "\u001b[0;31m---------------------------------------------------------------------------\u001b[0m",
      "\u001b[0;31mNameError\u001b[0m                                 Traceback (most recent call last)",
      "\u001b[0;32m<ipython-input-1-f74393240ff8>\u001b[0m in \u001b[0;36m<module>\u001b[0;34m\u001b[0m\n\u001b[1;32m      1\u001b[0m \u001b[0;32mimport\u001b[0m \u001b[0murllib\u001b[0m\u001b[0;34m.\u001b[0m\u001b[0mrequest\u001b[0m\u001b[0;34m\u001b[0m\u001b[0;34m\u001b[0m\u001b[0m\n\u001b[1;32m      2\u001b[0m \u001b[0murllib\u001b[0m\u001b[0;34m.\u001b[0m\u001b[0mrequest\u001b[0m\u001b[0;34m.\u001b[0m\u001b[0murlretrieve\u001b[0m\u001b[0;34m(\u001b[0m\u001b[0;34m\"https://raw.githubusercontent.com/sunnysai12345/News_Summary/master/news_summary_more.csv\"\u001b[0m\u001b[0;34m,\u001b[0m \u001b[0mfilename\u001b[0m\u001b[0;34m=\u001b[0m\u001b[0;34m\"news_summary_more.csv\"\u001b[0m\u001b[0;34m)\u001b[0m\u001b[0;34m\u001b[0m\u001b[0;34m\u001b[0m\u001b[0m\n\u001b[0;32m----> 3\u001b[0;31m \u001b[0mdata\u001b[0m \u001b[0;34m=\u001b[0m \u001b[0mpd\u001b[0m\u001b[0;34m.\u001b[0m\u001b[0mread_csv\u001b[0m\u001b[0;34m(\u001b[0m\u001b[0;34m'news_summary_more.csv'\u001b[0m\u001b[0;34m,\u001b[0m \u001b[0mencoding\u001b[0m\u001b[0;34m=\u001b[0m\u001b[0;34m'iso-8859-1'\u001b[0m\u001b[0;34m)\u001b[0m\u001b[0;34m\u001b[0m\u001b[0;34m\u001b[0m\u001b[0m\n\u001b[0m",
      "\u001b[0;31mNameError\u001b[0m: name 'pd' is not defined"
     ]
    }
   ],
   "source": [
    "import urllib.request\n",
    "urllib.request.urlretrieve(\"https://raw.githubusercontent.com/sunnysai12345/News_Summary/master/news_summary_more.csv\", filename=\"news_summary_more.csv\")\n",
    "data = pd.read_csv('news_summary_more.csv', encoding='iso-8859-1')"
   ]
  },
  {
   "cell_type": "code",
   "execution_count": 49,
   "id": "ceramic-antenna",
   "metadata": {},
   "outputs": [
    {
     "name": "stdout",
     "output_type": "stream",
     "text": [
      "The screen is filled with green, cascading code which gives way to the title, The Matrix.\r\n",
      "\r\n",
      "A phone rings and text appears on the screen: \"Call trans opt: received. 2-19-98 13:24:18 REC: Log>\" As a conversation takes place between Trinity (Carrie-Anne Moss) and Cypher (Joe Pantoliano), two free humans, a table of random green numbers are being scanned and individual numbers selected, creating a series of digits not unlike an ordinary phone number, as if a code is being deciphered or a call is being traced.\r\n",
      "\r\n",
      "Trinity discusses some unknown person. Cypher taunts Trinity, suggesting she enjoys watching him. Trinity counters that \"Morpheus (Laurence Fishburne) says he may be 'the One',\" just as the sound of a number being selected alerts Trinity that someone may be tracing their call. She ends the call.\r\n",
      "\r\n",
      "Armed policemen move down a darkened, decrepit hallway in the Heart O' the City Hotel, their flashlight beam bouncing just ahead of them. They come to room 303, kick down the door and find a woman dressed in black, facing away from them. It's Trinity. She brings her hands up from the laptop she's working on at their command.\r\n",
      "\r\n",
      "Outside the hotel a car drives up and three agents appear in neatly pressed black suits. They are Agent Smith (Hugo Weaving), Agent Brown (Paul Goddard), and Agent Jones (Robert Taylor). Agent Smith and the presiding police lieutenant argue. Agent Smith admonishes the policeman that they were given specific orders to contact the agents first, for their\n"
     ]
    }
   ],
   "source": [
    "text = requests.get('http://rare-technologies.com/the_matrix_synopsis.txt').text\n",
    "print(text[:1500])"
   ]
  },
  {
   "cell_type": "code",
   "execution_count": 50,
   "id": "opponent-period",
   "metadata": {},
   "outputs": [
    {
     "name": "stdout",
     "output_type": "stream",
     "text": [
      "Summary:\n",
      "Morpheus, Trinity, Neo, Apoc, Switch, Mouse and Cypher are jacked into the Matrix.\n",
      "Trinity brings the helicopter down to the floor that Morpheus is on and Neo opens fire on the three Agents.\n"
     ]
    }
   ],
   "source": [
    "print('Summary:')\n",
    "print(summarize(text, ratio=0.005))"
   ]
  },
  {
   "cell_type": "code",
   "execution_count": 51,
   "id": "asian-financing",
   "metadata": {},
   "outputs": [
    {
     "name": "stdout",
     "output_type": "stream",
     "text": [
      "Summary:\n",
      "['Morpheus, Trinity, Neo, Apoc, Switch, Mouse and Cypher are jacked into the Matrix.', 'Trinity brings the helicopter down to the floor that Morpheus is on and Neo opens fire on the three Agents.']\n"
     ]
    }
   ],
   "source": [
    "print('Summary:')\n",
    "print(summarize(text, ratio=0.005, split=True))"
   ]
  },
  {
   "cell_type": "code",
   "execution_count": 52,
   "id": "unique-ottawa",
   "metadata": {},
   "outputs": [
    {
     "name": "stdout",
     "output_type": "stream",
     "text": [
      "Summary:\n",
      "Trinity takes Neo to Morpheus.\n",
      "Morpheus, Trinity, Neo, Apoc, Switch, Mouse and Cypher are jacked into the Matrix.\n",
      "Trinity brings the helicopter down to the floor that Morpheus is on and Neo opens fire on the three Agents.\n"
     ]
    }
   ],
   "source": [
    "print('Summary:')\n",
    "print(summarize(text, words=50))"
   ]
  },
  {
   "cell_type": "markdown",
   "id": "acting-skiing",
   "metadata": {},
   "source": [
    "#### lms에서 제시했던 메트릭스 대본을 다운로드 받아서 추출적 요약을 해보았습니다. 제가 훈련시킨 녀셕보다 월등히 성능이 좋아보이네요^^;;"
   ]
  },
  {
   "cell_type": "markdown",
   "id": "given-eleven",
   "metadata": {},
   "source": [
    "## 총평"
   ]
  },
  {
   "cell_type": "markdown",
   "id": "severe-nursing",
   "metadata": {},
   "source": [
    "### 추상적 요약과상 추출적요약을 해보았습니다. 컴퓨터 비전도 쉽진 않지만 자연어 처리는 역시 너무 어려운것 같습니다. 전처리 해야할 내용도 많고 사람의 언어를 컴퓨터의 언어로 변환해서 소통한다는게 신기하기도 하고 어렵기도 한 일인것 같습니다. 하지만 저같이 AI에 대한 지식이 희미한 사람이라도 기존에 있는 함수들을 불러와 데이터를 학습실 수 있다는 것이 놀랍기만 하네요. 성능은 형편없지만 조금씩 나아지겠지요? 그쵸?"
   ]
  }
 ],
 "metadata": {
  "kernelspec": {
   "display_name": "aiffel",
   "language": "python",
   "name": "aiffel"
  },
  "language_info": {
   "codemirror_mode": {
    "name": "ipython",
    "version": 3
   },
   "file_extension": ".py",
   "mimetype": "text/x-python",
   "name": "python",
   "nbconvert_exporter": "python",
   "pygments_lexer": "ipython3",
   "version": "3.7.9"
  }
 },
 "nbformat": 4,
 "nbformat_minor": 5
}
