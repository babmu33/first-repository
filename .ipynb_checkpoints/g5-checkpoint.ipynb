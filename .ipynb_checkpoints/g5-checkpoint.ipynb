{
 "cells": [
  {
   "cell_type": "markdown",
   "id": "coastal-tuning",
   "metadata": {},
   "source": [
    "1. 딥러닝 기반의 Object detection 기법을 배워갑니다.\n",
    "2. Anchor box의 개념에 대해 이해합니다.\n",
    "2. single stage detection model과 two stage detection 모델의 차이를 이해합니다."
   ]
  },
  {
   "cell_type": "code",
   "execution_count": null,
   "id": "banner-scene",
   "metadata": {},
   "outputs": [],
   "source": [
    "from PIL import Image, ImageDraw\n",
    "import os\n",
    "\n",
    "img_path= '/home/aiffel0042/repo/Aiffel/Project/Going Deeper/data/img/person.jpg'\n",
    "img = Image.open(img_path)\n",
    "\n",
    "draw = ImageDraw.Draw(img)\n",
    "draw.rectangle((130, 30, 670, 600), outline=(0,255,0), width=2)\n",
    "\n",
    "img"
   ]
  },
  {
   "cell_type": "code",
   "execution_count": null,
   "id": "posted-rating",
   "metadata": {},
   "outputs": [],
   "source": [
    "import tensorflow as tf\n",
    "from tensorflow import keras\n",
    "\n",
    "output_num = 1+4+3 # object_prob 1, bbox coord 4, class_prob 3\n",
    "\n",
    "input_tensor = keras.layers.Input(shape=(224, 224, 3), name='image')\n",
    "base_model = keras.applications.resnet.ResNet50(\n",
    "    input_tensor=input_tensor,\n",
    "    include_top=False,\n",
    "    weights='imagenet',\n",
    "    pooling=None,\n",
    ")\n",
    "x = base_model.output\n",
    "preds = keras.layers.Conv2D(output_num, 1, 1)(x)\n",
    "localize_model=keras.Model(inputs=base_model.input, outputs=preds)\n",
    "\n",
    "localize_model.summary()"
   ]
  },
  {
   "cell_type": "code",
   "execution_count": null,
   "id": "confirmed-wonder",
   "metadata": {},
   "outputs": [],
   "source": [
    "'''\n",
    "각 feature map k에 대한 scale level 구하기\n",
    "'''\n",
    "S_MIN = 0.2\n",
    "S_MAX = 0.9\n",
    "def get_scales(m):\n",
    "    scales = []    \n",
    "    for k in range(1, m+1):\n",
    "        scales.append(round((S_MIN + (S_MAX - S_MIN) / (m - 1) * (k - 1)), 2)) \n",
    "    return scales\n",
    "get_scales(6)"
   ]
  },
  {
   "cell_type": "code",
   "execution_count": null,
   "id": "female-campaign",
   "metadata": {},
   "outputs": [],
   "source": [
    "'''\n",
    "각 feature map k에 대한 default box 높이와 넓이 구하기\n",
    "Anchor box의 크기를 각각 구해주는 함수이다. \n",
    "scales 변수로 크기를 지정해주고 RATIOS는 개수를 결정한다. \n",
    "'''\n",
    "import math \n",
    "\n",
    "RATIOS = [1, 2, 3, 0.5, 0.33]\n",
    "def get_width_height(scales):\n",
    "    width_heights = []\n",
    "    for k, scale in enumerate(scales):\n",
    "        print(f'k: {k+1} scale: {scale}')\n",
    "        width_height_per_scale =[]\n",
    "        for ratio in RATIOS:\n",
    "            width = min(round((scale * math.sqrt(ratio)), 2), 1)\n",
    "            height = min(round((scale /  math.sqrt(ratio)), 2), 1)\n",
    "            width_height_per_scale.append((width, height))\n",
    "            print(f'widht: {width} height: {height}')\n",
    "        if k < len(scales) - 1:\n",
    "            extra_scale = round(math.sqrt(scale * scales[k+1]), 2)\n",
    "            width_height_per_scale.append((extra_scale, extra_scale))\n",
    "            print(f'width: {extra_scale} height: {extra_scale}')\n",
    "        width_heights.append(width_height_per_scale)\n",
    "        print('')\n",
    "    return width_heights\n",
    "\n",
    "scales = get_scales(6)\n",
    "width_heights = get_width_height(scales)           "
   ]
  },
  {
   "cell_type": "code",
   "execution_count": null,
   "id": "acceptable-survival",
   "metadata": {},
   "outputs": [],
   "source": [
    "'''\n",
    "각 feature map k에 대한 center indexes 구하기\n",
    "전체 이미지의 크기가 1x1이라고 가정했을 때 각 셀에 대한 중점을 구하는 함수이다. \n",
    "'''\n",
    "def get_center(Fk):\n",
    "    centers = []\n",
    "    for i in range(Fk):\n",
    "        for j in range(Fk):\n",
    "            i_val = round(((i + 0.5)/Fk), 2)\n",
    "            j_val = round(((j + 0.5)/Fk), 2)\n",
    "            centers.append((j_val, i_val))\n",
    "    return centers\n",
    "\n",
    "Fk = 5\n",
    "centers = get_center(Fk)\n",
    "print(f'feature map size: {Fk}x{Fk}')\n",
    "print(f'total indexes: {len(centers)}')\n",
    "print(centers)"
   ]
  },
  {
   "cell_type": "code",
   "execution_count": null,
   "id": "urban-yesterday",
   "metadata": {},
   "outputs": [],
   "source": [
    "\"\"\"\n",
    "이미지를 불러오고 400x400으로 잘라준다\n",
    "\"\"\"\n",
    "import cv2\n",
    "import matplotlib.pyplot as plt\n",
    "import numpy as np\n",
    "import sys\n",
    "%matplotlib inline\n",
    "\n",
    "def center_crop(img, target_h, target_w):\n",
    "    h, w = img.shape[:2]\n",
    "    mid_h, mid_w = (h//2, w//2)\n",
    "    offset_h, offset_w = (target_h//2, target_w//2)\n",
    "    img = img[mid_h-offset_h:mid_h+offset_h, mid_w-offset_w:mid_w+offset_w]\n",
    "    return img\n",
    "\n",
    "def show_img(img, title):\n",
    "    plt.imshow(cv2.cvtColor(img, cv2.COLOR_BGR2RGB))\n",
    "    plt.title(title)\n",
    "    plt.show()\n",
    "    plt.close()\n",
    "\n",
    "img = cv2.imread(img_path, cv2.IMREAD_COLOR)\n",
    "img = center_crop(img, 400, 400)\n",
    "show_img(img, title='origin')"
   ]
  },
  {
   "cell_type": "code",
   "execution_count": null,
   "id": "competitive-raise",
   "metadata": {},
   "outputs": [],
   "source": [
    "\"\"\"\n",
    "feature map 사이즈를 5라고 가정햇을 때 center points를 그려줍니다.\n",
    "\"\"\"\n",
    "def plot_centers(img, centers):\n",
    "    print(img.shape)\n",
    "    w, h = img.shape[:2]\n",
    "    for center in centers:\n",
    "        coords = (int(w*center[0]), int(h*center[1]))\n",
    "        cv2.circle(img, coords, 3, (0, 0,255), -1)\n",
    "\n",
    "centers = get_center(5)\n",
    "plot_centers(img, centers)\n",
    "show_img(img, 'centers')"
   ]
  },
  {
   "cell_type": "code",
   "execution_count": null,
   "id": "ethical-hands",
   "metadata": {},
   "outputs": [],
   "source": [
    "\"\"\"\n",
    "Pick one center and draw default boxes supposing k=3\n",
    "\"\"\"\n",
    "import random\n",
    "\n",
    "def plot_default_boxes(img, center, width_height):\n",
    "    img_with_box = img.copy()\n",
    "    cen_x, cen_y = center\n",
    "    w, h = img.shape[:2]    \n",
    "    for w_h in width_height:\n",
    "        box_w, box_h = w_h\n",
    "        start = (int(w * (cen_x - (box_w/2))), int(h * (cen_y - box_h/2)))\n",
    "        end = (int(w * (cen_x + (box_w/2))), int(h * (cen_y + box_h/2)))\n",
    "        color = (random.randint(0, 255), random.randint(0, 255), random.randint(0, 255))\n",
    "        cv2.rectangle(img_with_box, start, end, color, 2)\n",
    "    return img_with_box\n",
    "    \n",
    "def show_subplot(img_list):\n",
    "    fig = plt.figure(figsize=(18,18))\n",
    "    for i in range(len(img_list)):\n",
    "        plt.subplot(5, 5, i+1)\n",
    "        plt.imshow(cv2.cvtColor(img_list[i], cv2.COLOR_BGR2RGB))\n",
    "    plt.show()\n",
    "    plt.close() \n",
    "\n",
    "width_height = width_heights[2]\n",
    "img_list = [] \n",
    "for i in range(0, 25):\n",
    "    center = centers[i]\n",
    "    img_with_box = plot_default_boxes(img, center, width_height)\n",
    "    img_list.append(img_with_box)\n",
    "show_subplot(img_list)"
   ]
  },
  {
   "cell_type": "code",
   "execution_count": null,
   "id": "opened-antibody",
   "metadata": {},
   "outputs": [],
   "source": []
  },
  {
   "cell_type": "code",
   "execution_count": null,
   "id": "spanish-trading",
   "metadata": {},
   "outputs": [],
   "source": []
  },
  {
   "cell_type": "code",
   "execution_count": null,
   "id": "affecting-therapist",
   "metadata": {},
   "outputs": [],
   "source": []
  },
  {
   "cell_type": "code",
   "execution_count": null,
   "id": "disciplinary-transportation",
   "metadata": {},
   "outputs": [],
   "source": []
  },
  {
   "cell_type": "code",
   "execution_count": null,
   "id": "korean-stable",
   "metadata": {},
   "outputs": [],
   "source": []
  },
  {
   "cell_type": "code",
   "execution_count": null,
   "id": "automated-better",
   "metadata": {},
   "outputs": [],
   "source": []
  },
  {
   "cell_type": "code",
   "execution_count": null,
   "id": "manual-message",
   "metadata": {},
   "outputs": [],
   "source": []
  },
  {
   "cell_type": "code",
   "execution_count": null,
   "id": "burning-swaziland",
   "metadata": {},
   "outputs": [],
   "source": []
  },
  {
   "cell_type": "code",
   "execution_count": null,
   "id": "advance-backup",
   "metadata": {},
   "outputs": [],
   "source": []
  },
  {
   "cell_type": "code",
   "execution_count": null,
   "id": "matched-snapshot",
   "metadata": {},
   "outputs": [],
   "source": []
  },
  {
   "cell_type": "code",
   "execution_count": null,
   "id": "concerned-assembly",
   "metadata": {},
   "outputs": [],
   "source": []
  },
  {
   "cell_type": "code",
   "execution_count": null,
   "id": "taken-paintball",
   "metadata": {},
   "outputs": [],
   "source": []
  },
  {
   "cell_type": "code",
   "execution_count": null,
   "id": "brilliant-secretary",
   "metadata": {},
   "outputs": [],
   "source": []
  }
 ],
 "metadata": {
  "kernelspec": {
   "display_name": "aiffel",
   "language": "python",
   "name": "aiffel"
  },
  "language_info": {
   "codemirror_mode": {
    "name": "ipython",
    "version": 3
   },
   "file_extension": ".py",
   "mimetype": "text/x-python",
   "name": "python",
   "nbconvert_exporter": "python",
   "pygments_lexer": "ipython3",
   "version": "3.7.9"
  }
 },
 "nbformat": 4,
 "nbformat_minor": 5
}
