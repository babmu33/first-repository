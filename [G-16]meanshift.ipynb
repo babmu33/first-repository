{
 "cells": [
  {
   "cell_type": "markdown",
   "id": "amber-freedom",
   "metadata": {},
   "source": [
    "## 16-10. 프로젝트: 카메라 앱에 당황한 표정 효과를 적용해보기"
   ]
  },
  {
   "cell_type": "code",
   "execution_count": 1,
   "id": "conditional-delhi",
   "metadata": {},
   "outputs": [],
   "source": [
    "import matplotlib.pylab as plt\n",
    "import tensorflow as tf\n",
    "import os\n",
    "from os.path import join\n",
    "from glob import glob\n",
    "from tqdm import tqdm\n",
    "import numpy as np\n",
    "import cv2\n",
    "import math\n",
    "import dlib\n",
    "import tensorflow_hub as hub\n",
    "from tensorflow.keras import layers\n",
    "from tensorflow.keras import models\n",
    "from tensorflow.keras.callbacks import LearningRateScheduler"
   ]
  },
  {
   "cell_type": "code",
   "execution_count": 2,
   "id": "everyday-polls",
   "metadata": {},
   "outputs": [
    {
     "name": "stdout",
     "output_type": "stream",
     "text": [
      "24928 24928\n",
      "Found 24928 images belonging to 1 classes.\n",
      "Found 24928 images belonging to 1 classes.\n"
     ]
    }
   ],
   "source": [
    "import glob\n",
    "\n",
    "home_dir = os.getenv('HOME')+'/lfw'\n",
    "list_image = sorted(glob.glob(home_dir+'/data/train/input/img/*.png'))\n",
    "list_label = sorted(glob.glob(home_dir+'/data/train/label/mask/*.png'))\n",
    "print (len(list_image), len(list_label))\n",
    "\n",
    "# 32의 배수를 벗어나는 파일 경로들을 담은 list\n",
    "list_image_out_of_range = list_image[len(list_image) - (len(list_image) % 32):]\n",
    "list_label_out_of_range = list_label[len(list_label) - (len(list_label) % 32):]\n",
    "\n",
    "# 해당 list가 존재한다면, 파일 삭제\n",
    "if list_image_out_of_range:\n",
    "    for path in list_image_out_of_range:\n",
    "        os.remove(path)\n",
    "if list_label_out_of_range:\n",
    "    for path in list_label_out_of_range:\n",
    "        os.remove(path)\n",
    "\n",
    "IMAGE_SHAPE = (80, 120)\n",
    "data_root = home_dir+'/data/train/input'\n",
    "label_root = home_dir+'/data/train/label'\n",
    "\n",
    "image_generator = tf.keras.preprocessing.image.ImageDataGenerator()\n",
    "label_generator = tf.keras.preprocessing.image.ImageDataGenerator()\n",
    "image_data = image_generator.flow_from_directory(str(data_root), class_mode=None, target_size=IMAGE_SHAPE, batch_size=32)\n",
    "label_data = label_generator.flow_from_directory(str(label_root), class_mode=None, target_size=IMAGE_SHAPE, batch_size=32)"
   ]
  },
  {
   "cell_type": "markdown",
   "id": "parliamentary-button",
   "metadata": {},
   "source": [
    "#### 필요한 라이브러리를 불러오고, 미리 생성해 놓은 데이터도 읽어옵니다. 데이터를 살펴보니 오른된 눈과 왼쪽 눈 한쌍으로 된 데이터 셋이 24928개 확인됩니다."
   ]
  },
  {
   "cell_type": "code",
   "execution_count": 3,
   "id": "aging-radiation",
   "metadata": {},
   "outputs": [],
   "source": [
    "def user_generation(train_generator, label_generator):\n",
    "    h, w = train_generator.target_size\n",
    "    for images, labels in zip(train_generator, label_generator):\n",
    "        images /= 255.\n",
    "        images = images[..., ::-1] # rgb to bgr\n",
    "\n",
    "        list_point_labels = []\n",
    "        for img, label in zip(images, labels):\n",
    "\n",
    "            eye_ls = np.where(label==1) # leftside\n",
    "            eye_rs = np.where(label==2) # rightside\n",
    "            eye_center = np.where(label==3)\n",
    "\n",
    "            lx, ly = [eye_ls[1].mean(), eye_ls[0].mean()]\n",
    "            rx, ry = [eye_rs[1].mean(), eye_rs[0].mean()]\n",
    "            cx, cy = [eye_center[1].mean(), eye_center[0].mean()]\n",
    "\n",
    "            if len(eye_ls[0])==0 or len(eye_ls[1])==0:\n",
    "                lx, ly = [0, 0]\n",
    "            if len(eye_rs[0])==0 or len(eye_rs[1])==0:\n",
    "                rx, ry = [w, h]\n",
    "            if len(eye_center[0])==0 or len(eye_center[1])==0:\n",
    "                cx, cy = [0, 0]\n",
    "\n",
    "            np_point_label = np.array([lx/w,ly/h,rx/w,ry/h,cx/w,cy/h], dtype=np.float32)\n",
    "\n",
    "            list_point_labels.append(np_point_label)\n",
    "        np_point_labels = np.array(list_point_labels)\n",
    "        yield (images, np_point_labels)"
   ]
  },
  {
   "cell_type": "code",
   "execution_count": 4,
   "id": "knowing-bhutan",
   "metadata": {},
   "outputs": [
    {
     "name": "stdout",
     "output_type": "stream",
     "text": [
      "(80, 120, 3) [0.         0.         1.         1.         0.08257005 0.21897742]\n",
      "(80, 120, 3) [0.         0.         1.         1.         0.57916665 0.40803364]\n"
     ]
    },
    {
     "name": "stderr",
     "output_type": "stream",
     "text": [
      "/home/aiffel-dj50/anaconda3/envs/aiffel/lib/python3.7/site-packages/ipykernel_launcher.py:14: RuntimeWarning: Mean of empty slice.\n",
      "  \n",
      "/home/aiffel-dj50/anaconda3/envs/aiffel/lib/python3.7/site-packages/numpy/core/_methods.py:170: RuntimeWarning: invalid value encountered in double_scalars\n",
      "  ret = ret.dtype.type(ret / rcount)\n",
      "/home/aiffel-dj50/anaconda3/envs/aiffel/lib/python3.7/site-packages/ipykernel_launcher.py:15: RuntimeWarning: Mean of empty slice.\n",
      "  from ipykernel import kernelapp as app\n"
     ]
    }
   ],
   "source": [
    "user_train_generator = user_generation(image_data, label_data)\n",
    "for i in range(2):\n",
    "    dd = next(user_train_generator)\n",
    "    print (dd[0][0].shape, dd[1][0])"
   ]
  },
  {
   "cell_type": "markdown",
   "id": "forced-stopping",
   "metadata": {},
   "source": [
    "#### 제너레이터 함수를 이용해 데이터를 리사이즈 하고 정규화 합니다."
   ]
  },
  {
   "cell_type": "markdown",
   "id": "understood-impact",
   "metadata": {},
   "source": [
    "### 1. 이론 시간에 다룬 모델을 참고하여 딥러닝 모델을 설계해 봅시다."
   ]
  },
  {
   "cell_type": "code",
   "execution_count": 5,
   "id": "marine-ownership",
   "metadata": {
    "scrolled": true
   },
   "outputs": [
    {
     "name": "stdout",
     "output_type": "stream",
     "text": [
      "(32, 2048)\n",
      "Model: \"sequential\"\n",
      "_________________________________________________________________\n",
      "Layer (type)                 Output Shape              Param #   \n",
      "=================================================================\n",
      "keras_layer (KerasLayer)     (None, 2048)              23564800  \n",
      "_________________________________________________________________\n",
      "dense (Dense)                (None, 1024)              2098176   \n",
      "_________________________________________________________________\n",
      "dropout (Dropout)            (None, 1024)              0         \n",
      "_________________________________________________________________\n",
      "dense_1 (Dense)              (None, 6)                 6150      \n",
      "=================================================================\n",
      "Total params: 25,669,126\n",
      "Trainable params: 2,104,326\n",
      "Non-trainable params: 23,564,800\n",
      "_________________________________________________________________\n"
     ]
    }
   ],
   "source": [
    "''' tf hub feature_extractor '''\n",
    "feature_extractor_url = \"https://tfhub.dev/google/imagenet/resnet_v2_50/feature_vector/4\"\n",
    "feature_extractor_layer = hub.KerasLayer(feature_extractor_url,\n",
    "                                            input_shape=(80,120,3))\n",
    "\n",
    "image_batch = next(image_data)\n",
    "feature_batch = feature_extractor_layer(image_batch)\n",
    "print(feature_batch.shape)\n",
    "\n",
    "num_classes = 6\n",
    "\n",
    "feature_extractor_layer.trainable = False\n",
    "model = tf.keras.Sequential([\n",
    "    feature_extractor_layer,\n",
    "    layers.Dense(1024, activation='relu'),\n",
    "    layers.Dropout(0.5),\n",
    "    layers.Dense(num_classes, activation='sigmoid'),\n",
    "])\n",
    "\n",
    "model.summary()"
   ]
  },
  {
   "cell_type": "markdown",
   "id": "secret-skating",
   "metadata": {},
   "source": [
    "#### tf.keras.Sequential()을 이용해서 백본 네트워크와 fully connected layer를 쌓아서 모델을 만듭니다."
   ]
  },
  {
   "cell_type": "code",
   "execution_count": 6,
   "id": "unexpected-drill",
   "metadata": {},
   "outputs": [],
   "source": [
    "model.compile(\n",
    "  optimizer=tf.keras.optimizers.Adam(),\n",
    "  loss='mse',\n",
    "  metrics=['mae']\n",
    "  )"
   ]
  },
  {
   "cell_type": "markdown",
   "id": "dependent-stroke",
   "metadata": {},
   "source": [
    "#### 이 문제는 점을 맞는 위치로 추정하는 position regression 문제이기 때문에 loss와 metric을 각각 mse 와 mae 로 설정합니다."
   ]
  },
  {
   "cell_type": "code",
   "execution_count": 7,
   "id": "exposed-fortune",
   "metadata": {},
   "outputs": [],
   "source": [
    "def lr_step_decay(epoch):\n",
    "    init_lr = 0.0005 #self.flag.initial_learning_rate\n",
    "    lr_decay = 0.5 #self.flag.learning_rate_decay_factor\n",
    "    epoch_per_decay = 2 #self.flag.epoch_per_decay\n",
    "    lrate = init_lr * math.pow(lr_decay, math.floor((1+epoch)/epoch_per_decay))\n",
    "    return lrate"
   ]
  },
  {
   "cell_type": "code",
   "execution_count": 8,
   "id": "falling-possibility",
   "metadata": {
    "scrolled": true
   },
   "outputs": [
    {
     "name": "stdout",
     "output_type": "stream",
     "text": [
      "24928 32 779\n",
      "Epoch 1/20\n"
     ]
    },
    {
     "name": "stderr",
     "output_type": "stream",
     "text": [
      "/home/aiffel-dj50/anaconda3/envs/aiffel/lib/python3.7/site-packages/ipykernel_launcher.py:14: RuntimeWarning: Mean of empty slice.\n",
      "  \n",
      "/home/aiffel-dj50/anaconda3/envs/aiffel/lib/python3.7/site-packages/ipykernel_launcher.py:15: RuntimeWarning: Mean of empty slice.\n",
      "  from ipykernel import kernelapp as app\n"
     ]
    },
    {
     "name": "stdout",
     "output_type": "stream",
     "text": [
      "779/779 [==============================] - 26s 30ms/step - loss: 0.0302 - mae: 0.0827\n",
      "Epoch 2/20\n",
      "779/779 [==============================] - 17s 22ms/step - loss: 0.0128 - mae: 0.0525\n",
      "Epoch 3/20\n",
      "779/779 [==============================] - 18s 23ms/step - loss: 0.0126 - mae: 0.0517\n",
      "Epoch 4/20\n",
      "779/779 [==============================] - 18s 23ms/step - loss: 0.0125 - mae: 0.0515\n",
      "Epoch 5/20\n",
      "779/779 [==============================] - 18s 23ms/step - loss: 0.0124 - mae: 0.0512\n",
      "Epoch 6/20\n",
      "779/779 [==============================] - 18s 24ms/step - loss: 0.0123 - mae: 0.0509\n",
      "Epoch 7/20\n",
      "779/779 [==============================] - 18s 24ms/step - loss: 0.0122 - mae: 0.0506\n",
      "Epoch 8/20\n",
      "779/779 [==============================] - 18s 23ms/step - loss: 0.0123 - mae: 0.0508\n",
      "Epoch 9/20\n",
      "779/779 [==============================] - 18s 23ms/step - loss: 0.0122 - mae: 0.0504\n",
      "Epoch 10/20\n",
      "779/779 [==============================] - 18s 23ms/step - loss: 0.0124 - mae: 0.0510\n",
      "Epoch 11/20\n",
      "779/779 [==============================] - 18s 23ms/step - loss: 0.0124 - mae: 0.0509\n",
      "Epoch 12/20\n",
      "779/779 [==============================] - 18s 23ms/step - loss: 0.0123 - mae: 0.0506\n",
      "Epoch 13/20\n",
      "779/779 [==============================] - 18s 23ms/step - loss: 0.0125 - mae: 0.0510\n",
      "Epoch 14/20\n",
      "779/779 [==============================] - 18s 23ms/step - loss: 0.0122 - mae: 0.0505\n",
      "Epoch 15/20\n",
      "779/779 [==============================] - 18s 23ms/step - loss: 0.0122 - mae: 0.0506\n",
      "Epoch 16/20\n",
      "779/779 [==============================] - 18s 23ms/step - loss: 0.0123 - mae: 0.0507\n",
      "Epoch 17/20\n",
      "779/779 [==============================] - 18s 23ms/step - loss: 0.0123 - mae: 0.0507\n",
      "Epoch 18/20\n",
      "779/779 [==============================] - 18s 23ms/step - loss: 0.0123 - mae: 0.0508\n",
      "Epoch 19/20\n",
      "779/779 [==============================] - 18s 23ms/step - loss: 0.0123 - mae: 0.0507\n",
      "Epoch 20/20\n",
      "779/779 [==============================] - 18s 23ms/step - loss: 0.0123 - mae: 0.0507\n"
     ]
    }
   ],
   "source": [
    "steps_per_epoch = image_data.samples//image_data.batch_size\n",
    "print (image_data.samples, image_data.batch_size, steps_per_epoch)\n",
    "# 20160 32 630 -> 데이터를 batch_size 의 배수로 준비해 주세요.\n",
    "\n",
    "learning_rate = LearningRateScheduler(lr_step_decay)\n",
    "\n",
    "history = model.fit(user_train_generator, epochs=20,\n",
    "                    steps_per_epoch=steps_per_epoch,\n",
    "                    callbacks = [learning_rate]\n",
    "                    )"
   ]
  },
  {
   "cell_type": "markdown",
   "id": "desperate-brazil",
   "metadata": {},
   "source": [
    "#### 20 epoch만큼만 학습 시켜봅니다."
   ]
  },
  {
   "cell_type": "code",
   "execution_count": 14,
   "id": "hungry-category",
   "metadata": {},
   "outputs": [
    {
     "data": {
      "image/png": "[encoded data removed]",
      "text/plain": [
       "<Figure size 432x288 with 2 Axes>"
      ]
     },
     "metadata": {
      "needs_background": "light"
     },
     "output_type": "display_data"
    }
   ],
   "source": [
    "fig, loss_ax = plt.subplots()\n",
    "\n",
    "acc_ax = loss_ax.twinx()\n",
    "\n",
    "loss_ax.plot(history.history['loss'], 'r', label='loss')\n",
    "acc_ax.plot(history.history['mae'], 'b', label='mae')\n",
    "\n",
    "loss_ax.set_xlabel('epoch')\n",
    "loss_ax.set_ylabel('loss')\n",
    "\n",
    "loss_ax.legend(loc='upper right')\n",
    "acc_ax.legend(loc='lower right')\n",
    "plt.savefig('result.png')\n",
    "plt.show()"
   ]
  },
  {
   "cell_type": "markdown",
   "id": "million-municipality",
   "metadata": {},
   "source": [
    "#### 근데 조금 이상하네요. 완만하게 loss가 감소하는게 아닌 초반에 확떨어지는 그래프를 그리네요. 결과가 어떻게 됬을지 궁금합니다."
   ]
  },
  {
   "cell_type": "code",
   "execution_count": 16,
   "id": "obvious-harris",
   "metadata": {},
   "outputs": [
    {
     "name": "stdout",
     "output_type": "stream",
     "text": [
      "Found 2782 images belonging to 1 classes.\n",
      "Found 2782 images belonging to 1 classes.\n"
     ]
    }
   ],
   "source": [
    "IMAGE_SHAPE = (80, 120)\n",
    "\n",
    "home_dir = os.getenv('HOME')+'/lfw'\n",
    "\n",
    "val_data_root = home_dir + '/data/val/input'\n",
    "val_label_root = home_dir + '/data/val/label'\n",
    "\n",
    "image_generator_val = tf.keras.preprocessing.image.ImageDataGenerator()\n",
    "label_generator_val = tf.keras.preprocessing.image.ImageDataGenerator()\n",
    "image_data_val = image_generator.flow_from_directory(str(val_data_root), class_mode=None, target_size=IMAGE_SHAPE, shuffle=False)\n",
    "label_data_val = label_generator.flow_from_directory(str(val_label_root), class_mode=None, target_size=IMAGE_SHAPE, shuffle=False)"
   ]
  },
  {
   "cell_type": "code",
   "execution_count": 17,
   "id": "negative-listing",
   "metadata": {
    "scrolled": true
   },
   "outputs": [
    {
     "name": "stderr",
     "output_type": "stream",
     "text": [
      "/home/aiffel-dj50/anaconda3/envs/aiffel/lib/python3.7/site-packages/tensorflow/python/keras/engine/training.py:1877: UserWarning: `Model.evaluate_generator` is deprecated and will be removed in a future version. Please use `Model.evaluate`, which supports generators.\n",
      "  warnings.warn('`Model.evaluate_generator` is deprecated and '\n",
      "/home/aiffel-dj50/anaconda3/envs/aiffel/lib/python3.7/site-packages/ipykernel_launcher.py:14: RuntimeWarning: Mean of empty slice.\n",
      "  \n",
      "/home/aiffel-dj50/anaconda3/envs/aiffel/lib/python3.7/site-packages/ipykernel_launcher.py:15: RuntimeWarning: Mean of empty slice.\n",
      "  from ipykernel import kernelapp as app\n"
     ]
    },
    {
     "name": "stdout",
     "output_type": "stream",
     "text": [
      "0.011951126158237457 0.049762532114982605\n"
     ]
    }
   ],
   "source": [
    "user_val_generator = user_generation(image_data_val, label_data_val)\n",
    "mse, mae = model.evaluate_generator(user_val_generator, image_data_val.n // 32)\n",
    "print(mse, mae)"
   ]
  },
  {
   "cell_type": "code",
   "execution_count": 48,
   "id": "excited-bouquet",
   "metadata": {},
   "outputs": [
    {
     "data": {
      "image/png": "[encoded data removed]",
      "text/plain": [
       "<Figure size 432x288 with 1 Axes>"
      ]
     },
     "metadata": {
      "needs_background": "light"
     },
     "output_type": "display_data"
    }
   ],
   "source": [
    "# img test\n",
    "import cv2\n",
    "import matplotlib.pyplot as plt\n",
    "\n",
    "img = cv2.imread(val_data_root+'/img/eye_001260_l.png')\n",
    "img = cv2.resize(img, (60, 40))\n",
    "plt.imshow(cv2.cvtColor(img, cv2.COLOR_BGR2RGB))\n",
    "plt.show()"
   ]
  },
  {
   "cell_type": "markdown",
   "id": "domestic-crack",
   "metadata": {},
   "source": [
    "#### 검증용 데이터중 하나를 불러왔습니다."
   ]
  },
  {
   "cell_type": "code",
   "execution_count": 49,
   "id": "needed-disability",
   "metadata": {},
   "outputs": [
    {
     "name": "stdout",
     "output_type": "stream",
     "text": [
      "[[[2.25063879e-03 2.32473249e-03]\n",
      "  [1.19996925e+02 7.99996033e+01]\n",
      "  [5.27369614e+01 2.67284470e+01]]]\n"
     ]
    }
   ],
   "source": [
    "np_inputs = np.expand_dims(cv2.resize(img, (120, 80)), axis=0)\n",
    "preds = model.predict(np_inputs/255., 1)\n",
    "\n",
    "repred = preds.reshape((1, 3, 2))\n",
    "repred[:,:,0] *= 120\n",
    "repred[:,:,1] *= 80\n",
    "print (repred)"
   ]
  },
  {
   "cell_type": "code",
   "execution_count": 50,
   "id": "strange-major",
   "metadata": {
    "scrolled": false
   },
   "outputs": [
    {
     "name": "stdout",
     "output_type": "stream",
     "text": [
      "[0. 0.]\n",
      "[120.  80.]\n",
      "[53. 27.]\n"
     ]
    },
    {
     "data": {
      "image/png": "[encoded data removed]",
      "text/plain": [
       "<Figure size 432x288 with 1 Axes>"
      ]
     },
     "metadata": {
      "needs_background": "light"
     },
     "output_type": "display_data"
    }
   ],
   "source": [
    "show = img.copy()\n",
    "for pt in repred[0]:\n",
    "    print (pt.round())\n",
    "    show = cv2.circle(show, tuple((pt*0.5).astype(int)), 3, (0,255,255), -1)\n",
    "\n",
    "plt.imshow(cv2.cvtColor(show, cv2.COLOR_BGR2RGB))\n",
    "plt.show()"
   ]
  },
  {
   "cell_type": "markdown",
   "id": "cultural-apparel",
   "metadata": {},
   "source": [
    "#### 에구머니나 이게 뭐죠? 뭔가 잘못된것 같습니다. 눈의 중앙과도 오차를 보이고 양쪽 눈의 위치는 더더욱 다릅니다^^;; 처음부터 다시해야 하나... ㅜㅜ"
   ]
  },
  {
   "cell_type": "markdown",
   "id": "royal-aerospace",
   "metadata": {},
   "source": [
    "### 2. 눈동자 효과를 추가해 봅시다."
   ]
  },
  {
   "cell_type": "code",
   "execution_count": 168,
   "id": "colonial-orchestra",
   "metadata": {},
   "outputs": [
    {
     "data": {
      "image/png": "[encoded data removed]",
      "text/plain": [
       "<Figure size 432x288 with 1 Axes>"
      ]
     },
     "metadata": {
      "needs_background": "light"
     },
     "output_type": "display_data"
    }
   ],
   "source": [
    "right = cv2.imread(val_data_root+'/test/test.png')\n",
    "cropped_img = right[100: 1000, 300: 1000]\n",
    "plt.imshow(cv2.cvtColor(cropped_img, cv2.COLOR_BGR2RGB))\n",
    "plt.show()"
   ]
  },
  {
   "cell_type": "markdown",
   "id": "million-suicide",
   "metadata": {},
   "source": [
    "#### 해커톤도 중요하니 일단은 그냥 진행해 봅니다. 놀란눈 한쪽 이미지를 준비합니다."
   ]
  },
  {
   "cell_type": "code",
   "execution_count": 169,
   "id": "eleven-inside",
   "metadata": {},
   "outputs": [
    {
     "name": "stdout",
     "output_type": "stream",
     "text": [
      "(x,y) : (31,16)\n",
      "(w,h) : (30,30)\n"
     ]
    }
   ],
   "source": [
    "x = int(repred[0][2][0].round()*0.6)\n",
    "y = int(repred[0][2][1].round()*0.6)\n",
    "w = 30\n",
    "h = 30\n",
    "print ('(x,y) : (%d,%d)'%(x,y))\n",
    "print ('(w,h) : (%d,%d)'%(w,h))"
   ]
  },
  {
   "cell_type": "code",
   "execution_count": 170,
   "id": "unavailable-longer",
   "metadata": {},
   "outputs": [
    {
     "name": "stdout",
     "output_type": "stream",
     "text": [
      "(30, 30, 3)\n"
     ]
    }
   ],
   "source": [
    "img_sticker = cv2.resize(cropped_img, (w,h))\n",
    "print (img_sticker.shape)"
   ]
  },
  {
   "cell_type": "code",
   "execution_count": 171,
   "id": "separate-armor",
   "metadata": {},
   "outputs": [
    {
     "name": "stdout",
     "output_type": "stream",
     "text": [
      "(x,y) : (16,1)\n"
     ]
    }
   ],
   "source": [
    "refined_x = x - w // 2  # left\n",
    "refined_y = y - h // 2      # top\n",
    "print ('(x,y) : (%d,%d)'%(refined_x, refined_y))"
   ]
  },
  {
   "cell_type": "code",
   "execution_count": 172,
   "id": "widespread-regression",
   "metadata": {},
   "outputs": [
    {
     "name": "stdout",
     "output_type": "stream",
     "text": [
      "(29, 30, 3)\n"
     ]
    }
   ],
   "source": [
    "img_sticker = img_sticker[refined_y:]\n",
    "print (img_sticker.shape)"
   ]
  },
  {
   "cell_type": "code",
   "execution_count": 174,
   "id": "olympic-packaging",
   "metadata": {},
   "outputs": [
    {
     "data": {
      "image/png": "[encoded data removed]",
      "text/plain": [
       "<Figure size 432x288 with 1 Axes>"
      ]
     },
     "metadata": {
      "needs_background": "light"
     },
     "output_type": "display_data"
    }
   ],
   "source": [
    "sticker_area = show[refined_y:refined_y+img_sticker.shape[0], refined_x:refined_x+img_sticker.shape[1]]\n",
    "img[refined_y:refined_y+img_sticker.shape[0], refined_x:refined_x+img_sticker.shape[1]] = \\\n",
    "    np.where(img_sticker==0,sticker_area,img_sticker).astype(np.uint8)\n",
    "plt.imshow(cv2.cvtColor(img, cv2.COLOR_BGR2RGB))\n",
    "plt.show()"
   ]
  },
  {
   "cell_type": "markdown",
   "id": "accompanied-spice",
   "metadata": {},
   "source": [
    "#### 이미지 인식이 제대로 안되서 스티커도 역시 다른곳에 적용이 되네요. 몰라 앙 ㅜㅜ"
   ]
  },
  {
   "cell_type": "markdown",
   "id": "abroad-classroom",
   "metadata": {},
   "source": [
    "## 총평"
   ]
  },
  {
   "cell_type": "markdown",
   "id": "capable-comment",
   "metadata": {},
   "source": [
    "### 과제를 하는 내내 고양이 콧수염 붙이던 지난날이 떠오르더군요. 그땐 진짜 아무것도 모르고 했는데 지금이라고 뭐 크게 향상된건 아닌것 같습니다. ^^;; 너무 어렵네요 "
   ]
  }
 ],
 "metadata": {
  "kernelspec": {
   "display_name": "aiffel",
   "language": "python",
   "name": "aiffel"
  },
  "language_info": {
   "codemirror_mode": {
    "name": "ipython",
    "version": 3
   },
   "file_extension": ".py",
   "mimetype": "text/x-python",
   "name": "python",
   "nbconvert_exporter": "python",
   "pygments_lexer": "ipython3",
   "version": "3.7.9"
  }
 },
 "nbformat": 4,
 "nbformat_minor": 5
}
