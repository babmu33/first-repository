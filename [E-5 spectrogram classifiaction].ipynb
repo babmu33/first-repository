{
 "cells": [
  {
   "cell_type": "markdown",
   "id": "liberal-cedar",
   "metadata": {},
   "source": [
    "# 7. 프로젝트: Spectrogram classification 모델 구현   \n",
    "\n",
    "오늘 실습에서 1차원 Waveform 데이터를 입력받아 Text 라벨을 출력하는 모델을 기본 버전과 Skip-connection 버전으로 나누어 학습시켜 보았습니다. 이번에는 2차원 Spectrogram 데이터를 입력받아 위 모델과 동일한 역할을 수행하는 모델을 아래 제시된 단계와 같이 수행해 보시기 바랍니다. 이번에도 마찬가지로 기본 버전과 Skip-connection 버전으로 나누어 각각 진행해 보시기 바랍니다."
   ]
  },
  {
   "cell_type": "markdown",
   "id": "liable-hormone",
   "metadata": {},
   "source": [
    "## 1. 데이터 처리와 분류"
   ]
  },
  {
   "cell_type": "markdown",
   "id": "occupational-albert",
   "metadata": {},
   "source": [
    "### 라벨 데이터 처리하기 "
   ]
  },
  {
   "cell_type": "code",
   "execution_count": 1,
   "id": "advisory-square",
   "metadata": {},
   "outputs": [
    {
     "name": "stdout",
     "output_type": "stream",
     "text": [
      "✅\n"
     ]
    }
   ],
   "source": [
    "import numpy as np\n",
    "import os\n",
    "\n",
    "data_path = os.getenv(\"HOME\")+'/aiffel/speech_recognition/data/speech_wav_8000.npz'\n",
    "speech_data = np.load(data_path)\n",
    "\n",
    "print(\"✅\")"
   ]
  },
  {
   "cell_type": "markdown",
   "id": "competitive-ranch",
   "metadata": {},
   "source": [
    "#### 데이터를 살펴보니 1초 길이의 오디오 음성데이터 50620개로 이루어져 있고, 16000개의 sample rate를 8000개로 re-sampling해서 사용하겠습니다. "
   ]
  },
  {
   "cell_type": "code",
   "execution_count": 2,
   "id": "ordinary-dispute",
   "metadata": {},
   "outputs": [
    {
     "name": "stdout",
     "output_type": "stream",
     "text": [
      "LABEL :  ['yes', 'no', 'up', 'down', 'left', 'right', 'on', 'off', 'stop', 'go', 'unknown', 'silence']\n",
      "Indexed LABEL :  {'yes': 0, 'no': 1, 'up': 2, 'down': 3, 'left': 4, 'right': 5, 'on': 6, 'off': 7, 'stop': 8, 'go': 9, 'unknown': 10, 'silence': 11}\n"
     ]
    }
   ],
   "source": [
    "target_list = ['yes', 'no', 'up', 'down', 'left', 'right', 'on', 'off', 'stop', 'go']\n",
    "\n",
    "label_value = target_list\n",
    "label_value.append('unknown')\n",
    "label_value.append('silence')\n",
    "\n",
    "print('LABEL : ', label_value)\n",
    "\n",
    "new_label_value = dict()\n",
    "for i, l in enumerate(label_value):\n",
    "    new_label_value[l] = i\n",
    "label_value = new_label_value\n",
    "\n",
    "print('Indexed LABEL : ', new_label_value)"
   ]
  },
  {
   "cell_type": "markdown",
   "id": "current-tract",
   "metadata": {},
   "source": [
    "#### 학습을 위해서 현재 Text 형태의 파일을 index 형태로 바꿔주었습니다."
   ]
  },
  {
   "cell_type": "code",
   "execution_count": 3,
   "id": "running-motivation",
   "metadata": {},
   "outputs": [
    {
     "data": {
      "text/plain": [
       "array([ 3,  3,  3, ..., 11, 11, 11])"
      ]
     },
     "execution_count": 3,
     "metadata": {},
     "output_type": "execute_result"
    }
   ],
   "source": [
    "temp = []\n",
    "for v in speech_data[\"label_vals\"]:\n",
    "    temp.append(label_value[v[0]])\n",
    "label_data = np.array(temp)\n",
    "\n",
    "label_data"
   ]
  },
  {
   "cell_type": "markdown",
   "id": "spanish-praise",
   "metadata": {},
   "source": [
    "#### 살펴보니 다 int로 이루진 데이터가 잘 배열되어 있는 걸  확인할수 있습니다."
   ]
  },
  {
   "cell_type": "code",
   "execution_count": 4,
   "id": "automotive-thousand",
   "metadata": {},
   "outputs": [
    {
     "name": "stdout",
     "output_type": "stream",
     "text": [
      "✅\n"
     ]
    }
   ],
   "source": [
    "import librosa\n",
    "\n",
    "def wav2spec(wav, fft_size=258): # spectrogram shape을 맞추기위해서 size 변형\n",
    "    D = np.abs(librosa.stft(wav, n_fft=fft_size))\n",
    "    return D\n",
    "print(\"✅\")"
   ]
  },
  {
   "cell_type": "markdown",
   "id": "precise-buddy",
   "metadata": {},
   "source": [
    "#### 위의 1차원 데이터는 다루어 봤으니 바로 2차원 데이터로 학습을 시키는 과제를 해볼까요? 일단 FFT 관련 라이브러리인 librosa를 설치하고 불러옵니다"
   ]
  },
  {
   "cell_type": "code",
   "execution_count": 5,
   "id": "described-occupation",
   "metadata": {},
   "outputs": [],
   "source": [
    "spec = []\n",
    "for wav in speech_data[\"wav_vals\"]:\n",
    "    spec.append(wav2spec(wav))\n",
    "spec = np.array(spec)"
   ]
  },
  {
   "cell_type": "code",
   "execution_count": 6,
   "id": "sorted-automation",
   "metadata": {},
   "outputs": [
    {
     "name": "stdout",
     "output_type": "stream",
     "text": [
      "Wave data shape :  (50620, 8000)\n",
      "Label data shape :  (50620, 130, 126)\n"
     ]
    }
   ],
   "source": [
    "print(\"Wave data shape : \", speech_data[\"wav_vals\"].shape)\n",
    "print(\"Label data shape : \", spec.shape)"
   ]
  },
  {
   "cell_type": "markdown",
   "id": "alternative-beatles",
   "metadata": {},
   "source": [
    "#### 1차원의 Waveform 데이터가 2차원의 Spectrogram 데이터로 변환된것을 확인 할수가 있습니다. 이부분이 너무 어려웠습니다. 의외로 간단한 함수였는데 이걸 해결하지 못해 반나절을 그냥 보낸것 같아요. 아... 내시간... 그 시간에 밀린 코딩 숙제를 했어야 했는데... TT"
   ]
  },
  {
   "cell_type": "markdown",
   "id": "dependent-barrier",
   "metadata": {},
   "source": [
    "### sklearn의 train_test_split함수를 이용하여 train, test 분리 "
   ]
  },
  {
   "cell_type": "code",
   "execution_count": 7,
   "id": "coupled-designation",
   "metadata": {},
   "outputs": [
    {
     "name": "stdout",
     "output_type": "stream",
     "text": [
      "(45558, 130, 126)\n",
      "(45558,)\n",
      "(5062, 130, 126)\n",
      "(5062,)\n"
     ]
    }
   ],
   "source": [
    "from sklearn.model_selection import train_test_split\n",
    "\n",
    "sr = 8000\n",
    "train_spec, test_spec, train_label, test_label = train_test_split(spec, \n",
    "                                                                label_data, \n",
    "                                                                test_size=0.1,\n",
    "                                                                shuffle=True)\n",
    "print(train_spec.shape)\n",
    "print(train_label.shape)\n",
    "print(test_spec.shape)\n",
    "print(test_label.shape)"
   ]
  },
  {
   "cell_type": "markdown",
   "id": "intermediate-magnitude",
   "metadata": {},
   "source": [
    "#### split함수를 이용하여 train, test 분리 했습니다. 45558개의 train set과 5062개의 test set으로 분리가 되었네요."
   ]
  },
  {
   "cell_type": "code",
   "execution_count": 8,
   "id": "hydraulic-brown",
   "metadata": {},
   "outputs": [],
   "source": [
    "del speech_data"
   ]
  },
  {
   "cell_type": "code",
   "execution_count": 9,
   "id": "associate-personal",
   "metadata": {},
   "outputs": [],
   "source": [
    "del spec"
   ]
  },
  {
   "cell_type": "markdown",
   "id": "distant-camping",
   "metadata": {},
   "source": [
    "#### 메모리 용량이 딸리는지 계속 작동이 멈춰서 너무 힘들었습니다. 이것 저것 다 해봐도 이유를 알수가 없어서 재부팅을 했더니 겨우 여기까지는 넘어왔습니다. 그리고 불필요한 데이터를 지웠는데 자꾸 멈출까봐 조마조마 하네요."
   ]
  },
  {
   "cell_type": "markdown",
   "id": "elementary-cargo",
   "metadata": {},
   "source": [
    "## 2. 학습을 위한 하이퍼파라미터 설정"
   ]
  },
  {
   "cell_type": "code",
   "execution_count": 10,
   "id": "rural-screen",
   "metadata": {},
   "outputs": [
    {
     "data": {
      "text/plain": [
       "'/home/aiffel-dj05/aiffel/speech_recognition/models/wav'"
      ]
     },
     "execution_count": 10,
     "metadata": {},
     "output_type": "execute_result"
    }
   ],
   "source": [
    "batch_size = 32\n",
    "max_epochs = 5\n",
    "\n",
    "# the save point\n",
    "checkpoint_dir = os.getenv('HOME')+'/aiffel/speech_recognition/models/wav'\n",
    "\n",
    "checkpoint_dir"
   ]
  },
  {
   "cell_type": "markdown",
   "id": "cubic-heritage",
   "metadata": {},
   "source": [
    "#### 겁나서 에포크를 많이 줄수가 없네요. 맘같아선 10을 주고 싶지만 밤을 새야 할것 같은 불길한 예감이 들어 5로줬습니다."
   ]
  },
  {
   "cell_type": "markdown",
   "id": "elect-march",
   "metadata": {},
   "source": [
    "## 3. 데이터셋 구성"
   ]
  },
  {
   "cell_type": "markdown",
   "id": "surprised-interview",
   "metadata": {},
   "source": [
    "### tf.data.Dataset을 이용 \n",
    "### from_tensor_slices 함수에 return 받길 원하는 데이터를 튜플 (data, label) 형태로 넣어서 사용 "
   ]
  },
  {
   "cell_type": "code",
   "execution_count": 11,
   "id": "joint-criminal",
   "metadata": {},
   "outputs": [
    {
     "name": "stdout",
     "output_type": "stream",
     "text": [
      "✅\n"
     ]
    }
   ],
   "source": [
    "def one_hot_label(spec, label):\n",
    "    label = tf.one_hot(label, depth=12)\n",
    "    return spec, label\n",
    "print(\"✅\")"
   ]
  },
  {
   "cell_type": "markdown",
   "id": "smoking-bahrain",
   "metadata": {},
   "source": [
    "### map과 batch를 이용한 데이터 전처리 "
   ]
  },
  {
   "cell_type": "code",
   "execution_count": 12,
   "id": "technical-things",
   "metadata": {},
   "outputs": [
    {
     "name": "stdout",
     "output_type": "stream",
     "text": [
      "<BatchDataset shapes: ((None, 130, 126), (None, 12)), types: (tf.float32, tf.float32)>\n",
      "<BatchDataset shapes: ((None, 130, 126), (None, 12)), types: (tf.float32, tf.float32)>\n",
      "✅\n"
     ]
    }
   ],
   "source": [
    "import tensorflow as tf\n",
    "\n",
    "# for train\n",
    "train_dataset = tf.data.Dataset.from_tensor_slices((train_spec, train_label))\n",
    "train_dataset = train_dataset.map(one_hot_label)\n",
    "train_dataset = train_dataset.repeat().batch(batch_size=batch_size)\n",
    "print(train_dataset)\n",
    "\n",
    "# for test\n",
    "test_dataset = tf.data.Dataset.from_tensor_slices((test_spec, test_label))\n",
    "test_dataset = test_dataset.map(one_hot_label)\n",
    "test_dataset = test_dataset.batch(batch_size=batch_size)\n",
    "print(test_dataset)\n",
    "print(\"✅\")"
   ]
  },
  {
   "cell_type": "markdown",
   "id": "raising-driver",
   "metadata": {},
   "source": []
  },
  {
   "cell_type": "markdown",
   "id": "banner-ceiling",
   "metadata": {},
   "source": [
    "## 4. 2차원 Spectrogram 데이터를 처리하는 모델 구성"
   ]
  },
  {
   "cell_type": "markdown",
   "id": "paperback-galaxy",
   "metadata": {},
   "source": [
    "### 2차원 Spectrogram 데이터의 시간축 방향으로 Conv1D layer를 적용\n",
    "### batchnorm, dropout, dense layer 등을 이용 "
   ]
  },
  {
   "cell_type": "code",
   "execution_count": 13,
   "id": "employed-twist",
   "metadata": {},
   "outputs": [
    {
     "name": "stdout",
     "output_type": "stream",
     "text": [
      "Model: \"model\"\n",
      "_________________________________________________________________\n",
      "Layer (type)                 Output Shape              Param #   \n",
      "=================================================================\n",
      "input_1 (InputLayer)         [(None, 130, 126, 1)]     0         \n",
      "_________________________________________________________________\n",
      "conv2d (Conv2D)              (None, 130, 126, 32)      2624      \n",
      "_________________________________________________________________\n",
      "conv2d_1 (Conv2D)            (None, 130, 126, 32)      82976     \n",
      "_________________________________________________________________\n",
      "max_pooling2d (MaxPooling2D) (None, 65, 63, 32)        0         \n",
      "_________________________________________________________________\n",
      "conv2d_2 (Conv2D)            (None, 65, 63, 64)        165952    \n",
      "_________________________________________________________________\n",
      "conv2d_3 (Conv2D)            (None, 65, 63, 64)        331840    \n",
      "_________________________________________________________________\n",
      "max_pooling2d_1 (MaxPooling2 (None, 32, 31, 64)        0         \n",
      "_________________________________________________________________\n",
      "conv2d_4 (Conv2D)            (None, 32, 31, 128)       663680    \n",
      "_________________________________________________________________\n",
      "conv2d_5 (Conv2D)            (None, 32, 31, 128)       1327232   \n",
      "_________________________________________________________________\n",
      "conv2d_6 (Conv2D)            (None, 32, 31, 128)       1327232   \n",
      "_________________________________________________________________\n",
      "max_pooling2d_2 (MaxPooling2 (None, 16, 15, 128)       0         \n",
      "_________________________________________________________________\n",
      "conv2d_7 (Conv2D)            (None, 16, 15, 256)       2654464   \n",
      "_________________________________________________________________\n",
      "conv2d_8 (Conv2D)            (None, 16, 15, 256)       5308672   \n",
      "_________________________________________________________________\n",
      "conv2d_9 (Conv2D)            (None, 16, 15, 256)       5308672   \n",
      "_________________________________________________________________\n",
      "max_pooling2d_3 (MaxPooling2 (None, 8, 7, 256)         0         \n",
      "_________________________________________________________________\n",
      "dropout (Dropout)            (None, 8, 7, 256)         0         \n",
      "_________________________________________________________________\n",
      "flatten (Flatten)            (None, 14336)             0         \n",
      "_________________________________________________________________\n",
      "dense (Dense)                (None, 256)               3670272   \n",
      "_________________________________________________________________\n",
      "batch_normalization (BatchNo (None, 256)               1024      \n",
      "_________________________________________________________________\n",
      "activation (Activation)      (None, 256)               0         \n",
      "_________________________________________________________________\n",
      "dense_1 (Dense)              (None, 12)                3084      \n",
      "=================================================================\n",
      "Total params: 20,847,724\n",
      "Trainable params: 20,847,212\n",
      "Non-trainable params: 512\n",
      "_________________________________________________________________\n"
     ]
    }
   ],
   "source": [
    "from tensorflow.keras import layers\n",
    "\n",
    "input_tensor = layers.Input(shape=(130, 126, 1))\n",
    "\n",
    "x = layers.Conv2D(32, 9, padding='same', activation='relu')(input_tensor)\n",
    "x = layers.Conv2D(32, 9, padding='same', activation='relu')(x)\n",
    "x = layers.MaxPool2D()(x)\n",
    "\n",
    "x = layers.Conv2D(64, 9, padding='same', activation='relu')(x)\n",
    "x = layers.Conv2D(64, 9, padding='same', activation='relu')(x)\n",
    "x = layers.MaxPool2D()(x)\n",
    "\n",
    "x = layers.Conv2D(128, 9, padding='same', activation='relu')(x)\n",
    "x = layers.Conv2D(128, 9, padding='same', activation='relu')(x)\n",
    "x = layers.Conv2D(128, 9, padding='same', activation='relu')(x)\n",
    "x = layers.MaxPool2D()(x)\n",
    "\n",
    "x = layers.Conv2D(256, 9, padding='same', activation='relu')(x)\n",
    "x = layers.Conv2D(256, 9, padding='same', activation='relu')(x)\n",
    "x = layers.Conv2D(256, 9, padding='same', activation='relu')(x)\n",
    "x = layers.MaxPool2D()(x)\n",
    "x = layers.Dropout(0.3)(x)\n",
    "\n",
    "x = layers.Flatten()(x)\n",
    "x = layers.Dense(256)(x)\n",
    "x = layers.BatchNormalization()(x)\n",
    "x = layers.Activation('relu')(x)\n",
    "\n",
    "output_tensor = layers.Dense(12)(x)\n",
    "\n",
    "model_wav = tf.keras.Model(input_tensor, output_tensor)\n",
    "\n",
    "model_wav.summary()"
   ]
  },
  {
   "cell_type": "markdown",
   "id": "conservative-wells",
   "metadata": {},
   "source": []
  },
  {
   "cell_type": "markdown",
   "id": "directed-private",
   "metadata": {},
   "source": [
    "### 12개의 단어 class를 구분하는 loss를 사용하고 Adam optimizer를 사용 "
   ]
  },
  {
   "cell_type": "code",
   "execution_count": 15,
   "id": "desperate-interference",
   "metadata": {},
   "outputs": [
    {
     "name": "stdout",
     "output_type": "stream",
     "text": [
      "✅\n"
     ]
    }
   ],
   "source": [
    "optimizer=tf.keras.optimizers.Adam(1e-4)\n",
    "model_wav.compile(loss=tf.keras.losses.CategoricalCrossentropy(from_logits=True),\n",
    "             optimizer=optimizer,\n",
    "             metrics=['accuracy'])\n",
    "print(\"✅\")"
   ]
  },
  {
   "cell_type": "markdown",
   "id": "strategic-break",
   "metadata": {},
   "source": [
    "### 모델 가중치를 저장하는 checkpoint callback 함수 추가 "
   ]
  },
  {
   "cell_type": "code",
   "execution_count": 16,
   "id": "refined-restoration",
   "metadata": {},
   "outputs": [
    {
     "name": "stdout",
     "output_type": "stream",
     "text": [
      "✅\n"
     ]
    }
   ],
   "source": [
    "cp_callback = tf.keras.callbacks.ModelCheckpoint(checkpoint_dir,\n",
    "                                                 save_weights_only=True,\n",
    "                                                 monitor='val_loss',\n",
    "                                                 mode='auto',\n",
    "                                                 save_best_only=True,\n",
    "                                                 verbose=1)\n",
    "print(\"✅\")"
   ]
  },
  {
   "cell_type": "markdown",
   "id": "vulnerable-charge",
   "metadata": {},
   "source": [
    "### 다양한 모델의 실험을 진행"
   ]
  },
  {
   "cell_type": "code",
   "execution_count": 18,
   "id": "conventional-article",
   "metadata": {},
   "outputs": [
    {
     "name": "stdout",
     "output_type": "stream",
     "text": [
      "Epoch 1/5\n",
      "1423/1423 [==============================] - ETA: 0s - loss: 0.6715 - accuracy: 0.7767\n",
      "Epoch 00001: val_loss improved from inf to 0.34142, saving model to /home/aiffel-dj05/aiffel/speech_recognition/models/wav\n",
      "1423/1423 [==============================] - 704s 494ms/step - loss: 0.6715 - accuracy: 0.7767 - val_loss: 0.3414 - val_accuracy: 0.8843\n",
      "Epoch 2/5\n",
      "1423/1423 [==============================] - ETA: 0s - loss: 0.2345 - accuracy: 0.9250\n",
      "Epoch 00002: val_loss improved from 0.34142 to 0.19750, saving model to /home/aiffel-dj05/aiffel/speech_recognition/models/wav\n",
      "1423/1423 [==============================] - 717s 504ms/step - loss: 0.2345 - accuracy: 0.9250 - val_loss: 0.1975 - val_accuracy: 0.9347\n",
      "Epoch 3/5\n",
      "1423/1423 [==============================] - ETA: 0s - loss: 0.1596 - accuracy: 0.9490\n",
      "Epoch 00003: val_loss improved from 0.19750 to 0.17115, saving model to /home/aiffel-dj05/aiffel/speech_recognition/models/wav\n",
      "1423/1423 [==============================] - 728s 512ms/step - loss: 0.1596 - accuracy: 0.9490 - val_loss: 0.1712 - val_accuracy: 0.9442\n",
      "Epoch 4/5\n",
      "1423/1423 [==============================] - ETA: 0s - loss: 0.1293 - accuracy: 0.9576\n",
      "Epoch 00004: val_loss improved from 0.17115 to 0.16436, saving model to /home/aiffel-dj05/aiffel/speech_recognition/models/wav\n",
      "1423/1423 [==============================] - 770s 541ms/step - loss: 0.1293 - accuracy: 0.9576 - val_loss: 0.1644 - val_accuracy: 0.9450\n",
      "Epoch 5/5\n",
      "1423/1423 [==============================] - ETA: 0s - loss: 0.1030 - accuracy: 0.9658\n",
      "Epoch 00005: val_loss improved from 0.16436 to 0.13012, saving model to /home/aiffel-dj05/aiffel/speech_recognition/models/wav\n",
      "1423/1423 [==============================] - 769s 540ms/step - loss: 0.1030 - accuracy: 0.9658 - val_loss: 0.1301 - val_accuracy: 0.9583\n",
      "✅\n"
     ]
    }
   ],
   "source": [
    "#30분 내외 소요 (메모리 사용량에 주의해 주세요.)\n",
    "history_wav = model_wav.fit(train_dataset, epochs=max_epochs,\n",
    "                    steps_per_epoch=len(train_spec) // batch_size,\n",
    "                    validation_data=test_dataset,\n",
    "                    validation_steps=len(test_spec) // batch_size,\n",
    "                    callbacks=[cp_callback]\n",
    "                    )\n",
    "print(\"✅\")"
   ]
  },
  {
   "cell_type": "markdown",
   "id": "alert-performer",
   "metadata": {},
   "source": [
    "#### tensorflower gpu도 잘 설치 되어있고 작동 되는것도 확인이 되었는데 너무 시간이 오래 걸립니다 ㅜㅜ 한 에포크당 10분이 소요 되는 바람에 너무 오래 걸려 다음 진행이 어려웠습니다. 이거부터 해결해야 다음 진행도 될듯한데... 산넘어 산이네 ... 잠은 언제 잔다냐!!!!"
   ]
  },
  {
   "cell_type": "markdown",
   "id": "waiting-absorption",
   "metadata": {},
   "source": [
    "## 5. 학습 후, 학습이 어떻게 진행됐는지 그래프로 출력"
   ]
  },
  {
   "cell_type": "markdown",
   "id": "olympic-australia",
   "metadata": {},
   "source": [
    "### loss, accuracy를 그래프로 표현 "
   ]
  },
  {
   "cell_type": "code",
   "execution_count": 19,
   "id": "talented-twins",
   "metadata": {},
   "outputs": [
    {
     "data": {
      "image/png": "[encoded data removed]",
      "text/plain": [
       "<Figure size 576x576 with 2 Axes>"
      ]
     },
     "metadata": {
      "needs_background": "light"
     },
     "output_type": "display_data"
    },
    {
     "name": "stdout",
     "output_type": "stream",
     "text": [
      "✅\n"
     ]
    }
   ],
   "source": [
    "import matplotlib.pyplot as plt\n",
    "\n",
    "acc = history_wav.history['accuracy']\n",
    "val_acc = history_wav.history['val_accuracy']\n",
    "\n",
    "loss=history_wav.history['loss']\n",
    "val_loss=history_wav.history['val_loss']\n",
    "\n",
    "epochs_range = range(len(acc))\n",
    "\n",
    "plt.figure(figsize=(8, 8))\n",
    "plt.subplot(1, 2, 1)\n",
    "plt.plot(epochs_range, acc, label='Training Accuracy')\n",
    "plt.plot(epochs_range, val_acc, label='Validation Accuracy')\n",
    "plt.legend(loc='lower right')\n",
    "plt.title('Training and Validation Accuracy')\n",
    "\n",
    "plt.subplot(1, 2, 2)\n",
    "plt.plot(epochs_range, loss, label='Training Loss')\n",
    "plt.plot(epochs_range, val_loss, label='Validation Loss')\n",
    "plt.legend(loc='upper right')\n",
    "plt.title('Training and Validation Loss')\n",
    "plt.show()\n",
    "print(\"✅\")"
   ]
  },
  {
   "cell_type": "markdown",
   "id": "gothic-melissa",
   "metadata": {},
   "source": [
    "#### 데이터 양이 충분해서 인지 accuracy는 높고, loss값은 낮은걸로 봐서 학습이 아주 잘된듯 보입니다. 뿌듯... 내가한건 아니지만 ..."
   ]
  },
  {
   "cell_type": "markdown",
   "id": "preliminary-detective",
   "metadata": {},
   "source": [
    "## 6. Test dataset을 이용해서 모델의 성능을 평가"
   ]
  },
  {
   "cell_type": "markdown",
   "id": "convinced-argument",
   "metadata": {},
   "source": [
    "### 저장한 weight 불러오기"
   ]
  },
  {
   "cell_type": "code",
   "execution_count": 20,
   "id": "acceptable-intelligence",
   "metadata": {},
   "outputs": [
    {
     "name": "stdout",
     "output_type": "stream",
     "text": [
      "✅\n"
     ]
    }
   ],
   "source": [
    "model_wav.load_weights(checkpoint_dir)\n",
    "print(\"✅\")"
   ]
  },
  {
   "cell_type": "markdown",
   "id": "retired-section",
   "metadata": {},
   "source": [
    "### 모델의 예측값과 정답값이 얼마나 일치하는지 확인"
   ]
  },
  {
   "cell_type": "code",
   "execution_count": 21,
   "id": "hispanic-watts",
   "metadata": {},
   "outputs": [
    {
     "name": "stdout",
     "output_type": "stream",
     "text": [
      "159/159 [==============================] - 86s 540ms/step - loss: 0.1300 - accuracy: 0.9583\n",
      "✅\n"
     ]
    }
   ],
   "source": [
    "results = model_wav.evaluate(test_dataset)\n",
    "print(\"✅\")"
   ]
  },
  {
   "cell_type": "code",
   "execution_count": 22,
   "id": "unique-speed",
   "metadata": {},
   "outputs": [
    {
     "name": "stdout",
     "output_type": "stream",
     "text": [
      "loss value: 0.130\n",
      "accuracy value: 95.8317%\n",
      "✅\n"
     ]
    }
   ],
   "source": [
    "# loss\n",
    "print(\"loss value: {:.3f}\".format(results[0]))\n",
    "# accuracy\n",
    "print(\"accuracy value: {:.4f}%\".format(results[1]*100))\n",
    "print(\"✅\")"
   ]
  },
  {
   "cell_type": "markdown",
   "id": "requested-accident",
   "metadata": {},
   "source": [
    "#### 이렇게 수치로 환산하고 보니 정말 학습이 잘 되었군요!!"
   ]
  },
  {
   "cell_type": "code",
   "execution_count": 28,
   "id": "supreme-entertainment",
   "metadata": {},
   "outputs": [],
   "source": [
    "import IPython.display as ipd\n",
    "import random"
   ]
  },
  {
   "cell_type": "code",
   "execution_count": 31,
   "id": "recovered-visiting",
   "metadata": {},
   "outputs": [
    {
     "name": "stdout",
     "output_type": "stream",
     "text": [
      "label :  silence\n"
     ]
    },
    {
     "data": {
      "text/html": [
       "\n",
       "                <audio  controls=\"controls\" >\n",
       "                    <source src=\"data:audio/wav;base64,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\" type=\"audio/wav\" />\n",
       "                    Your browser does not support the audio element.\n",
       "                </audio>\n",
       "              "
      ],
      "text/plain": [
       "<IPython.lib.display.Audio object>"
      ]
     },
     "execution_count": 31,
     "metadata": {},
     "output_type": "execute_result"
    }
   ],
   "source": [
    "inv_label_value = {v: k for k, v in label_value.items()}\n",
    "batch_index = np.random.choice(len(test_spec), size=1, replace=False)\n",
    "\n",
    "batch_xs = test_spec[batch_index]\n",
    "batch_ys = test_label[batch_index]\n",
    "y_pred_ = model_wav(batch_xs, training=False)\n",
    "a= librosa.istft(batch_xs.reshape(130,126))\n",
    "\n",
    "print(\"label : \", str(inv_label_value[batch_ys[0]]))\n",
    "\n",
    "ipd.Audio(a, rate=8000)"
   ]
  },
  {
   "cell_type": "markdown",
   "id": "extended-elder",
   "metadata": {},
   "source": [
    "#### "
   ]
  },
  {
   "cell_type": "code",
   "execution_count": 32,
   "id": "equal-provincial",
   "metadata": {},
   "outputs": [
    {
     "name": "stdout",
     "output_type": "stream",
     "text": [
      "y_pred: silence(Correct!)\n",
      "✅\n"
     ]
    }
   ],
   "source": [
    "if np.argmax(y_pred_) == batch_ys[0]:\n",
    "    print(\"y_pred: \" + str(inv_label_value[np.argmax(y_pred_)]) + '(Correct!)')\n",
    "else:\n",
    "    print(\"y_pred: \" + str(inv_label_value[np.argmax(y_pred_)]) + '(Incorrect!)')\n",
    "print(\"✅\")"
   ]
  },
  {
   "cell_type": "markdown",
   "id": "stable-baptist",
   "metadata": {},
   "source": [
    "#### 와우~ 정말 완벽하게 맞췄네요."
   ]
  },
  {
   "cell_type": "code",
   "execution_count": 33,
   "id": "secure-melbourne",
   "metadata": {},
   "outputs": [
    {
     "data": {
      "image/png": "[encoded data removed]",
      "text/plain": [
       "<Figure size 432x288 with 2 Axes>"
      ]
     },
     "metadata": {
      "needs_background": "light"
     },
     "output_type": "display_data"
    }
   ],
   "source": [
    "import librosa.display\n",
    "\n",
    "librosa.display.specshow(librosa.amplitude_to_db(batch_xs.reshape(130,126), ref=np.max), x_axis='time')\n",
    "plt.title('Power spectrogram')\n",
    "plt.colorbar(format='%+2.0f dB')\n",
    "plt.xticks(range(0, 1))\n",
    "plt.tight_layout()\n",
    "plt.show()"
   ]
  },
  {
   "cell_type": "markdown",
   "id": "computational-planet",
   "metadata": {},
   "source": [
    "#### 스펙트로그램이 정말 예쁘게 잘 그려졌네요. 앗싸~~~~"
   ]
  },
  {
   "cell_type": "markdown",
   "id": "dominant-judge",
   "metadata": {},
   "source": [
    "## 총평"
   ]
  },
  {
   "cell_type": "markdown",
   "id": "lasting-bridal",
   "metadata": {},
   "source": [
    "### 주말을 이 과제로 다 날렸지만, 그래도 하나씩 해결되는 것들을 보니 눈물이 납니다.  컴맹이던 내가 지금 이걸 하고 있다니...TT 아멘!! 데이터가 너무 커서 리부팅을 20번도 넘게 하는 바람에 뚜껑이 열려 한겨울도 한여름처럼 느껴졌어요. 그래도 해냈으니 다행입니다.   아직 모든것들이 다 이해되지는 않지만 팀들의 도움을 받아서 조금씩 성장하는 즐거움을 느끼고 있네요. 텍스트 데이터부터 이미지 데이터를 지나 이제 음성데이터까지 하나씩 알아가게 되서 힘들지만 보람됩니다. 이제 자러갑니다. zzzzzzz~"
   ]
  }
 ],
 "metadata": {
  "kernelspec": {
   "display_name": "aiffel",
   "language": "python",
   "name": "aiffel"
  },
  "language_info": {
   "codemirror_mode": {
    "name": "ipython",
    "version": 3
   },
   "file_extension": ".py",
   "mimetype": "text/x-python",
   "name": "python",
   "nbconvert_exporter": "python",
   "pygments_lexer": "ipython3",
   "version": "3.7.9"
  }
 },
 "nbformat": 4,
 "nbformat_minor": 5
}
